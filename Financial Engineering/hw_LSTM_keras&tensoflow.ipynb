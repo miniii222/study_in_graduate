{
 "cells": [
  {
   "cell_type": "code",
   "execution_count": 1,
   "metadata": {},
   "outputs": [
    {
     "name": "stderr",
     "output_type": "stream",
     "text": [
      "C:\\Users\\wjssm\\Anaconda3\\lib\\site-packages\\h5py\\__init__.py:36: FutureWarning: Conversion of the second argument of issubdtype from `float` to `np.floating` is deprecated. In future, it will be treated as `np.float64 == np.dtype(float).type`.\n",
      "  from ._conv import register_converters as _register_converters\n",
      "Using TensorFlow backend.\n"
     ]
    }
   ],
   "source": [
    "import numpy as np\n",
    "from keras.models import Sequential\n",
    "from keras.layers import Dense\n",
    "from keras.layers import LSTM\n",
    "\n",
    "from matplotlib import pyplot as plt"
   ]
  },
  {
   "cell_type": "code",
   "execution_count": 2,
   "metadata": {},
   "outputs": [],
   "source": [
    "time_points = np.linspace(0, 8*np.pi, 5000)\n",
    "\n",
    "seq_length = 5\n",
    "dataX = []\n",
    "dataY = []\n",
    "for i in range(0, len(time_points) - seq_length, 1):\n",
    "    seq_in = time_points[i:i + seq_length]\n",
    "    seq_out = np.sin(time_points)[i]\n",
    "    dataX.append([seq_in])\n",
    "    dataY.append(seq_out)\n",
    "\n",
    "X = np.reshape(dataX, (len(dataX), seq_length, 1)) #numpy as np\n",
    "y = np.reshape(dataY, (len(dataY), 1))"
   ]
  },
  {
   "cell_type": "code",
   "execution_count": 133,
   "metadata": {},
   "outputs": [
    {
     "data": {
      "text/plain": [
       "(4995, 5, 1)"
      ]
     },
     "execution_count": 133,
     "metadata": {},
     "output_type": "execute_result"
    }
   ],
   "source": [
    "X.shape"
   ]
  },
  {
   "cell_type": "code",
   "execution_count": 134,
   "metadata": {},
   "outputs": [
    {
     "data": {
      "text/plain": [
       "(4995, 1)"
      ]
     },
     "execution_count": 134,
     "metadata": {},
     "output_type": "execute_result"
    }
   ],
   "source": [
    "y.shape"
   ]
  },
  {
   "cell_type": "markdown",
   "metadata": {},
   "source": [
    "## keras"
   ]
  },
  {
   "cell_type": "code",
   "execution_count": 50,
   "metadata": {
    "scrolled": true
   },
   "outputs": [
    {
     "name": "stdout",
     "output_type": "stream",
     "text": [
      "Train on 3496 samples, validate on 1499 samples\n",
      "Epoch 1/30\n",
      " - 5s - loss: 0.4577 - val_loss: 0.4824\n",
      "Epoch 2/30\n",
      " - 2s - loss: 0.2948 - val_loss: 0.7310\n",
      "Epoch 3/30\n",
      " - 2s - loss: 0.0863 - val_loss: 1.8026\n",
      "Epoch 4/30\n",
      " - 2s - loss: 0.0019 - val_loss: 1.9716\n",
      "Epoch 5/30\n",
      " - 2s - loss: 8.1832e-04 - val_loss: 1.8939\n",
      "Epoch 6/30\n",
      " - 2s - loss: 0.0023 - val_loss: 1.7771\n",
      "Epoch 7/30\n",
      " - 2s - loss: 4.1135e-04 - val_loss: 1.8498\n",
      "Epoch 8/30\n",
      " - 2s - loss: 5.5722e-04 - val_loss: 1.8169\n",
      "Epoch 9/30\n",
      " - 2s - loss: 0.0015 - val_loss: 1.7298\n",
      "Epoch 10/30\n",
      " - 2s - loss: 0.0016 - val_loss: 1.7760\n",
      "Epoch 11/30\n",
      " - 2s - loss: 6.0945e-04 - val_loss: 1.6974\n",
      "Epoch 12/30\n",
      " - 2s - loss: 4.3043e-04 - val_loss: 1.7122\n",
      "Epoch 13/30\n",
      " - 2s - loss: 2.5880e-04 - val_loss: 1.6637\n",
      "Epoch 14/30\n",
      " - 2s - loss: 0.0035 - val_loss: 1.5794\n",
      "Epoch 15/30\n",
      " - 2s - loss: 1.2714e-04 - val_loss: 1.6170\n",
      "Epoch 16/30\n",
      " - 2s - loss: 1.7206e-04 - val_loss: 1.6251\n",
      "Epoch 17/30\n",
      " - 2s - loss: 4.0013e-04 - val_loss: 1.5855\n",
      "Epoch 18/30\n",
      " - 2s - loss: 3.9320e-04 - val_loss: 1.5823\n",
      "Epoch 19/30\n",
      " - 2s - loss: 9.6025e-04 - val_loss: 1.5385\n",
      "Epoch 20/30\n",
      " - 2s - loss: 6.3906e-04 - val_loss: 1.5478\n",
      "Epoch 21/30\n",
      " - 2s - loss: 4.3575e-04 - val_loss: 1.5453\n",
      "Epoch 22/30\n",
      " - 2s - loss: 0.0016 - val_loss: 1.5098\n",
      "Epoch 23/30\n",
      " - 2s - loss: 4.5702e-04 - val_loss: 1.5006\n",
      "Epoch 24/30\n",
      " - 2s - loss: 2.0948e-04 - val_loss: 1.4912\n",
      "Epoch 25/30\n",
      " - 2s - loss: 0.0035 - val_loss: 1.4639\n",
      "Epoch 26/30\n",
      " - 2s - loss: 7.8898e-05 - val_loss: 1.4603\n",
      "Epoch 27/30\n",
      " - 2s - loss: 7.1049e-05 - val_loss: 1.4248\n",
      "Epoch 28/30\n",
      " - 2s - loss: 1.3947e-04 - val_loss: 1.4608\n",
      "Epoch 29/30\n",
      " - 2s - loss: 3.5957e-04 - val_loss: 1.4564\n",
      "Epoch 30/30\n",
      " - 2s - loss: 4.6059e-04 - val_loss: 1.4663\n"
     ]
    },
    {
     "data": {
      "text/plain": [
       "<keras.callbacks.History at 0x21bf86cca90>"
      ]
     },
     "execution_count": 50,
     "metadata": {},
     "output_type": "execute_result"
    }
   ],
   "source": [
    "model = Sequential()\n",
    "model.add(LSTM(32, input_shape=(X.shape[1], X.shape[2])))\n",
    "model.add(Dense(y.shape[1], activation='linear'))\n",
    "model.compile(loss='mean_squared_error', optimizer='adam')\n",
    "model.fit(X, y, epochs=30, batch_size=10, verbose=2, validation_split=0.3)"
   ]
  },
  {
   "cell_type": "code",
   "execution_count": 51,
   "metadata": {},
   "outputs": [],
   "source": [
    "y_hat = model.predict(X)"
   ]
  },
  {
   "cell_type": "code",
   "execution_count": 52,
   "metadata": {},
   "outputs": [
    {
     "data": {
      "text/plain": [
       "(4995, 5, 1)"
      ]
     },
     "execution_count": 52,
     "metadata": {},
     "output_type": "execute_result"
    }
   ],
   "source": [
    "X.shape"
   ]
  },
  {
   "cell_type": "code",
   "execution_count": 53,
   "metadata": {},
   "outputs": [
    {
     "data": {
      "text/plain": [
       "<matplotlib.legend.Legend at 0x21bf91bfd30>"
      ]
     },
     "execution_count": 53,
     "metadata": {},
     "output_type": "execute_result"
    },
    {
     "data": {
      "image/png": "[encoded data removed]",
      "text/plain": [
       "<Figure size 432x288 with 1 Axes>"
      ]
     },
     "metadata": {},
     "output_type": "display_data"
    }
   ],
   "source": [
    "plt.plot(X[:,0,:],y,linestyle=\"dashed\")\n",
    "plt.plot(X[:,0,:],y_hat)\n",
    "plt.legend([\"y\",\"predict\"])"
   ]
  },
  {
   "cell_type": "code",
   "execution_count": 54,
   "metadata": {},
   "outputs": [
    {
     "data": {
      "text/plain": [
       "<matplotlib.legend.Legend at 0x21bf920ea20>"
      ]
     },
     "execution_count": 54,
     "metadata": {},
     "output_type": "execute_result"
    },
    {
     "data": {
      "image/png": "[encoded data removed]",
      "text/plain": [
       "<Figure size 432x288 with 1 Axes>"
      ]
     },
     "metadata": {},
     "output_type": "display_data"
    }
   ],
   "source": [
    "plt.plot(X[:4000,0,:],y[:4000],linestyle=\"dashed\")\n",
    "plt.plot(X[:4000,0,:],y_hat[:4000])\n",
    "plt.legend([\"y\",\"predict\"])"
   ]
  },
  {
   "cell_type": "markdown",
   "metadata": {},
   "source": [
    "## tensorflow"
   ]
  },
  {
   "cell_type": "code",
   "execution_count": 3,
   "metadata": {},
   "outputs": [],
   "source": [
    "import tensorflow as tf"
   ]
  },
  {
   "cell_type": "code",
   "execution_count": 4,
   "metadata": {},
   "outputs": [],
   "source": [
    "x = tf.placeholder(tf.float32, [None, 5,1])\n",
    "t = tf.placeholder(tf.float32, [None, 1])"
   ]
  },
  {
   "cell_type": "code",
   "execution_count": 5,
   "metadata": {},
   "outputs": [],
   "source": [
    "num_hidden = 16\n",
    "cell = tf.nn.rnn_cell.LSTMCell(num_hidden, state_is_tuple=True)"
   ]
  },
  {
   "cell_type": "code",
   "execution_count": 7,
   "metadata": {},
   "outputs": [],
   "source": [
    "weight = tf.Variable(tf.truncated_normal([num_hidden, int(t.get_shape()[1])]))\n",
    "bias = tf.Variable(tf.constant(0.1, shape=[t.get_shape()[1]]))"
   ]
  },
  {
   "cell_type": "code",
   "execution_count": 10,
   "metadata": {},
   "outputs": [],
   "source": [
    "val, state = tf.nn.dynamic_rnn(cell, x, dtype=tf.float32)\n",
    "val = tf.transpose(val, [1, 0, 2])\n",
    "last = tf.gather(val, int(val.get_shape()[0]) - 1)"
   ]
  },
  {
   "cell_type": "code",
   "execution_count": 11,
   "metadata": {},
   "outputs": [],
   "source": [
    "prediction = tf.nn.softmax(tf.matmul(last, weight) + bias)"
   ]
  },
  {
   "cell_type": "code",
   "execution_count": 12,
   "metadata": {},
   "outputs": [
    {
     "name": "stderr",
     "output_type": "stream",
     "text": [
      "C:\\Users\\wjssm\\Anaconda3\\lib\\site-packages\\tensorflow\\python\\ops\\gradients_impl.py:100: UserWarning: Converting sparse IndexedSlices to a dense Tensor of unknown shape. This may consume a large amount of memory.\n",
      "  \"Converting sparse IndexedSlices to a dense Tensor of unknown shape. \"\n"
     ]
    }
   ],
   "source": [
    "mse = tf.reduce_mean(tf.square(t-prediction))\n",
    "optimizer = tf.train.AdamOptimizer()\n",
    "minimize = optimizer.minimize(mse)"
   ]
  },
  {
   "cell_type": "code",
   "execution_count": 13,
   "metadata": {},
   "outputs": [],
   "source": [
    "init = tf.global_variables_initializer()\n",
    "sess = tf.Session()\n",
    "sess.run(init)"
   ]
  },
  {
   "cell_type": "code",
   "execution_count": 27,
   "metadata": {},
   "outputs": [
    {
     "name": "stdout",
     "output_type": "stream",
     "text": [
      "Epoch -  0\n",
      "Epoch -  1\n",
      "Epoch -  2\n",
      "Epoch -  3\n",
      "Epoch -  4\n",
      "Epoch -  5\n",
      "Epoch -  6\n",
      "Epoch -  7\n",
      "Epoch -  8\n",
      "Epoch -  9\n",
      "Epoch -  10\n",
      "Epoch -  11\n",
      "Epoch -  12\n",
      "Epoch -  13\n",
      "Epoch -  14\n",
      "Epoch -  15\n",
      "Epoch -  16\n",
      "Epoch -  17\n",
      "Epoch -  18\n",
      "Epoch -  19\n",
      "Epoch -  20\n",
      "Epoch -  21\n",
      "Epoch -  22\n",
      "Epoch -  23\n",
      "Epoch -  24\n",
      "Epoch -  25\n",
      "Epoch -  26\n",
      "Epoch -  27\n",
      "Epoch -  28\n",
      "Epoch -  29\n",
      "Epoch -  30\n",
      "Epoch -  31\n",
      "Epoch -  32\n",
      "Epoch -  33\n",
      "Epoch -  34\n",
      "Epoch -  35\n",
      "Epoch -  36\n",
      "Epoch -  37\n",
      "Epoch -  38\n",
      "Epoch -  39\n",
      "Epoch -  40\n",
      "Epoch -  41\n",
      "Epoch -  42\n",
      "Epoch -  43\n",
      "Epoch -  44\n",
      "Epoch -  45\n",
      "Epoch -  46\n",
      "Epoch -  47\n",
      "Epoch -  48\n",
      "Epoch -  49\n",
      "Epoch 50 error 150.0%\n"
     ]
    }
   ],
   "source": [
    "batch_size = 10\n",
    "no_of_batches = int(len(X)/batch_size)\n",
    "epoch = 50\n",
    "for i in range(epoch):\n",
    "    ptr = 0\n",
    "    for j in range(no_of_batches):\n",
    "        inp, out = X[ptr:ptr+batch_size], y[ptr:ptr+batch_size]\n",
    "        ptr+=batch_size\n",
    "        sess.run(minimize,{x: inp, t: out})\n",
    "    print (\"Epoch - \",str(i))\n",
    "incorrect = sess.run(mse,{x: X, t: y})\n",
    "print('Epoch {:2d} error {:3.1f}%'.format(i + 1, 100 * incorrect))\n",
    "sess.close()"
   ]
  },
  {
   "cell_type": "code",
   "execution_count": 28,
   "metadata": {},
   "outputs": [
    {
     "data": {
      "text/plain": [
       "1.50038"
      ]
     },
     "execution_count": 28,
     "metadata": {},
     "output_type": "execute_result"
    }
   ],
   "source": [
    "incorrect"
   ]
  }
 ],
 "metadata": {
  "kernelspec": {
   "display_name": "Python 3",
   "language": "python",
   "name": "python3"
  },
  "language_info": {
   "codemirror_mode": {
    "name": "ipython",
    "version": 3
   },
   "file_extension": ".py",
   "mimetype": "text/x-python",
   "name": "python",
   "nbconvert_exporter": "python",
   "pygments_lexer": "ipython3",
   "version": "3.6.5"
  }
 },
 "nbformat": 4,
 "nbformat_minor": 2
}
