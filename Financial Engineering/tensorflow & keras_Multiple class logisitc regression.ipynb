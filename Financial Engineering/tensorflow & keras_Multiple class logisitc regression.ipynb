{
 "cells": [
  {
   "cell_type": "markdown",
   "metadata": {},
   "source": [
    "# tensorflow"
   ]
  },
  {
   "cell_type": "code",
   "execution_count": 19,
   "metadata": {},
   "outputs": [],
   "source": [
    "import numpy as np\n",
    "import tensorflow as tf"
   ]
  },
  {
   "cell_type": "code",
   "execution_count": 2,
   "metadata": {},
   "outputs": [],
   "source": [
    "M = 2 #dim\n",
    "K = 3 #class\n",
    "n = 100\n",
    "N = n*K #num of obs"
   ]
  },
  {
   "cell_type": "code",
   "execution_count": 10,
   "metadata": {},
   "outputs": [],
   "source": [
    "X1 = np.random.randn(n,M) + np.array((0,10))\n",
    "X2 = np.random.randn(n,M) + np.array((5,5))\n",
    "X3 = np.random.randn(n,M) + np.array((10,10))\n",
    "\n",
    "Y1 = np.array( [[1,0,0] for i in range(100)])\n",
    "Y2 = np.array( [[0,1,0] for i in range(100)])\n",
    "Y3 = np.array( [[0,0,1] for i in range(100)])"
   ]
  },
  {
   "cell_type": "code",
   "execution_count": 11,
   "metadata": {},
   "outputs": [],
   "source": [
    "X = np.concatenate((X1,X2,X3), axis = 0)\n",
    "Y = np.concatenate((Y1,Y2,Y3), axis = 0)"
   ]
  },
  {
   "cell_type": "code",
   "execution_count": 12,
   "metadata": {},
   "outputs": [
    {
     "data": {
      "text/plain": [
       "(300, 2)"
      ]
     },
     "execution_count": 12,
     "metadata": {},
     "output_type": "execute_result"
    }
   ],
   "source": [
    "X.shape"
   ]
  },
  {
   "cell_type": "code",
   "execution_count": 13,
   "metadata": {},
   "outputs": [
    {
     "data": {
      "text/plain": [
       "(300, 3)"
      ]
     },
     "execution_count": 13,
     "metadata": {},
     "output_type": "execute_result"
    }
   ],
   "source": [
    "Y.shape"
   ]
  },
  {
   "cell_type": "code",
   "execution_count": 20,
   "metadata": {},
   "outputs": [],
   "source": [
    "W = tf.Variable(tf.zeros([M,K])) #(2,3)\n",
    "b = tf.Variable(tf.zeros([K])) # (1,3)\n",
    "\n",
    "x = tf.placeholder(tf.float32, shape = [None, M]) #2\n",
    "t = tf.placeholder(tf.float32, shape = [None, K]) #3\n",
    "y = tf.nn.softmax(tf.matmul(x,W) + b)"
   ]
  },
  {
   "cell_type": "code",
   "execution_count": 50,
   "metadata": {},
   "outputs": [],
   "source": [
    "cross_entropy = -tf.reduce_mean(t * tf.log(y), axis = 1)\n",
    "train_step = tf.train.GradientDescentOptimizer(0.1).minimize(cross_entropy)"
   ]
  },
  {
   "cell_type": "code",
   "execution_count": 51,
   "metadata": {},
   "outputs": [],
   "source": [
    "sess = tf.Session()\n",
    "init = tf.global_variables_initializer()\n",
    "sess.run(init)"
   ]
  },
  {
   "cell_type": "code",
   "execution_count": 52,
   "metadata": {},
   "outputs": [],
   "source": [
    "batch_size = 50\n",
    "n_batch = 300//batch_size"
   ]
  },
  {
   "cell_type": "code",
   "execution_count": 53,
   "metadata": {},
   "outputs": [],
   "source": [
    "from sklearn.utils import shuffle\n",
    "for epoch in range(100) :\n",
    "    X_, Y_ = shuffle(X, Y)\n",
    "    \n",
    "    for i in range(n_batch) :\n",
    "        start = i*batch_size\n",
    "        end = start + batch_size\n",
    "        sess.run(train_step, feed_dict={\n",
    "            x : X_[start:end,:],\n",
    "            t : Y_[start:end,:]\n",
    "        })"
   ]
  },
  {
   "cell_type": "code",
   "execution_count": 67,
   "metadata": {},
   "outputs": [
    {
     "data": {
      "text/plain": [
       "<tf.Tensor 'Cast_3:0' shape=(?,) dtype=int32>"
      ]
     },
     "execution_count": 67,
     "metadata": {},
     "output_type": "execute_result"
    }
   ],
   "source": [
    "correct_prediction = tf.cast(tf.equal(tf.argmax(t, axis = 1), tf.argmax(y, axis =1)), dtype = tf.int32)"
   ]
  },
  {
   "cell_type": "code",
   "execution_count": 68,
   "metadata": {},
   "outputs": [
    {
     "data": {
      "text/plain": [
       "array([1, 1, 1, 1, 1, 1, 1, 1, 1, 1, 1, 1, 1, 1, 1, 1, 1, 1, 1, 1, 1, 1,\n",
       "       1, 1, 1, 1, 1, 1, 1, 1, 1, 1, 1, 1, 1, 1, 1, 1, 1, 1, 1, 1, 1, 1,\n",
       "       1, 1, 1, 1, 1, 1, 1, 1, 1, 1, 1, 1, 1, 1, 1, 1, 1, 1, 1, 1, 1, 1,\n",
       "       1, 1, 1, 1, 1, 1, 1, 1, 1, 1, 1, 1, 1, 1, 1, 1, 1, 1, 1, 1, 1, 1,\n",
       "       1, 1, 1, 1, 1, 1, 1, 1, 1, 1, 1, 1, 0, 0, 0, 0, 0, 0, 0, 0, 0, 0,\n",
       "       0, 0, 0, 0, 0, 0, 0, 0, 0, 0, 0, 0, 0, 0, 0, 0, 0, 0, 0, 0, 0, 0,\n",
       "       0, 0, 0, 0, 0, 0, 0, 0, 0, 0, 0, 0, 0, 0, 0, 0, 0, 0, 0, 0, 0, 0,\n",
       "       0, 0, 0, 0, 0, 0, 0, 0, 0, 0, 0, 0, 0, 0, 0, 0, 0, 0, 0, 0, 0, 0,\n",
       "       0, 0, 0, 0, 0, 0, 0, 0, 0, 0, 0, 0, 0, 0, 0, 0, 0, 0, 0, 0, 0, 0,\n",
       "       0, 0, 0, 0, 0, 0, 0, 0, 0, 0, 0, 0, 0, 0, 0, 0, 0, 0, 0, 0, 0, 0,\n",
       "       0, 0, 0, 0, 0, 0, 0, 0, 0, 0, 0, 0, 0, 0, 0, 0, 0, 0, 0, 0, 0, 0,\n",
       "       0, 0, 0, 0, 0, 0, 0, 0, 0, 0, 0, 0, 0, 0, 0, 0, 0, 0, 0, 0, 0, 0,\n",
       "       0, 0, 0, 0, 0, 0, 0, 0, 0, 0, 0, 0, 0, 0, 0, 0, 0, 0, 0, 0, 0, 0,\n",
       "       0, 0, 0, 0, 0, 0, 0, 0, 0, 0, 0, 0, 0, 0])"
      ]
     },
     "execution_count": 68,
     "metadata": {},
     "output_type": "execute_result"
    }
   ],
   "source": [
    "sess.run(correct_prediction, feed_dict={\n",
    "    x:X ,\n",
    "    t:Y\n",
    "})"
   ]
  },
  {
   "cell_type": "code",
   "execution_count": 27,
   "metadata": {},
   "outputs": [
    {
     "data": {
      "text/plain": [
       "(300,)"
      ]
     },
     "execution_count": 27,
     "metadata": {},
     "output_type": "execute_result"
    }
   ],
   "source": [
    "import matplotlib.pyplot as plt\n",
    "c1 = np.zeros([100])+1\n",
    "c2 = np.zeros([100])+2\n",
    "c3 = np.zeros([100])+3\n",
    "\n",
    "c = np.concatenate((c1,c2,c3), axis = 0)\n",
    "c.shape"
   ]
  },
  {
   "cell_type": "code",
   "execution_count": 33,
   "metadata": {},
   "outputs": [
    {
     "data": {
      "text/plain": [
       "<matplotlib.collections.PathCollection at 0x17ef363b278>"
      ]
     },
     "execution_count": 33,
     "metadata": {},
     "output_type": "execute_result"
    },
    {
     "data": {
      "image/png": "[encoded data removed]",
      "text/plain": [
       "<Figure size 432x288 with 1 Axes>"
      ]
     },
     "metadata": {},
     "output_type": "display_data"
    }
   ],
   "source": [
    "plt.scatter(X[:,0],X[:,1],c = c)"
   ]
  },
  {
   "cell_type": "markdown",
   "metadata": {},
   "source": [
    "# Keras"
   ]
  },
  {
   "cell_type": "code",
   "execution_count": 69,
   "metadata": {},
   "outputs": [
    {
     "name": "stderr",
     "output_type": "stream",
     "text": [
      "Using TensorFlow backend.\n"
     ]
    }
   ],
   "source": [
    "from keras.models import Sequential\n",
    "from keras.layers import Dense, Activation\n",
    "from keras.optimizers import SGD"
   ]
  },
  {
   "cell_type": "code",
   "execution_count": 71,
   "metadata": {},
   "outputs": [],
   "source": [
    "model = Sequential()\n",
    "model.add(Dense(input_dim = M, units = K))\n",
    "model.add(Activation('softmax'))\n",
    "model.compile(loss = 'categorical_crossentropy', optimizer = SGD(lr = 0.1))"
   ]
  },
  {
   "cell_type": "code",
   "execution_count": 74,
   "metadata": {},
   "outputs": [
    {
     "data": {
      "text/plain": [
       "<keras.callbacks.History at 0x17ef3c7bb38>"
      ]
     },
     "execution_count": 74,
     "metadata": {},
     "output_type": "execute_result"
    }
   ],
   "source": [
    "minibatch_size = 50\n",
    "model.fit(X,Y,epochs=100, batch_size=M, verbose = 0)"
   ]
  },
  {
   "cell_type": "code",
   "execution_count": 75,
   "metadata": {},
   "outputs": [
    {
     "data": {
      "text/plain": [
       "array([[9.99991417e-01, 8.56078441e-06, 1.45010253e-08],\n",
       "       [9.99999881e-01, 1.07420313e-07, 9.01697272e-10],\n",
       "       [9.99962568e-01, 3.73982366e-05, 1.12885390e-08],\n",
       "       [9.99999762e-01, 2.30372635e-07, 2.11502222e-11],\n",
       "       [9.99999046e-01, 9.90386638e-07, 9.07085351e-10],\n",
       "       [1.00000000e+00, 5.70694425e-08, 7.24362514e-11],\n",
       "       [9.99998927e-01, 1.10752603e-06, 2.61986044e-10],\n",
       "       [1.00000000e+00, 1.28834765e-08, 3.66015863e-11],\n",
       "       [1.00000000e+00, 3.84648615e-08, 3.45855393e-11],\n",
       "       [9.99984980e-01, 1.50706846e-05, 3.78787171e-08],\n",
       "       [9.99994397e-01, 5.56151599e-06, 2.18013820e-08],\n",
       "       [9.99998212e-01, 1.75806144e-06, 6.72341419e-11],\n",
       "       [1.00000000e+00, 3.51579699e-09, 3.11588234e-12],\n",
       "       [9.99999762e-01, 2.95680252e-07, 9.58245594e-10],\n",
       "       [9.99913454e-01, 5.81972999e-05, 2.83358750e-05],\n",
       "       [1.00000000e+00, 1.22593005e-10, 4.23973600e-13],\n",
       "       [1.00000000e+00, 1.64745950e-09, 8.70786082e-12],\n",
       "       [9.99997139e-01, 2.85951864e-06, 1.50467336e-08],\n",
       "       [9.99999285e-01, 7.46841351e-07, 3.72477582e-09],\n",
       "       [9.99644279e-01, 3.50202696e-04, 5.46653155e-06],\n",
       "       [9.99999762e-01, 2.43235235e-07, 1.44471324e-10],\n",
       "       [9.99870777e-01, 1.25646751e-04, 3.56877968e-06],\n",
       "       [1.00000000e+00, 2.52618149e-10, 4.29358453e-13],\n",
       "       [9.99990463e-01, 9.53582003e-06, 7.87875631e-09],\n",
       "       [9.99968886e-01, 3.05094254e-05, 5.71394708e-07],\n",
       "       [1.00000000e+00, 1.83500515e-09, 4.40000250e-12],\n",
       "       [9.99999762e-01, 2.55096808e-07, 9.53132087e-11],\n",
       "       [9.99999762e-01, 2.63574748e-07, 7.76166686e-09],\n",
       "       [9.99996901e-01, 3.06383845e-06, 9.36915434e-09],\n",
       "       [1.00000000e+00, 2.17911520e-08, 2.30934147e-10],\n",
       "       [9.99992847e-01, 7.20303115e-06, 3.87174985e-08],\n",
       "       [9.94852722e-01, 3.21577257e-03, 1.93161203e-03],\n",
       "       [9.99999881e-01, 9.69553184e-08, 1.63898367e-10],\n",
       "       [1.00000000e+00, 5.54928192e-08, 6.07820825e-12],\n",
       "       [1.00000000e+00, 1.72057160e-10, 1.94190085e-12],\n",
       "       [9.99983549e-01, 1.64296252e-05, 1.87286009e-08],\n",
       "       [1.00000000e+00, 3.74217706e-08, 5.69402641e-12],\n",
       "       [1.00000000e+00, 2.74270135e-08, 1.85309233e-11],\n",
       "       [9.99639511e-01, 3.58719204e-04, 1.77552374e-06],\n",
       "       [9.99995112e-01, 4.93273501e-06, 3.89424742e-10],\n",
       "       [9.99999762e-01, 2.53177063e-07, 1.23737257e-10],\n",
       "       [1.00000000e+00, 1.18648247e-09, 8.71758221e-12],\n",
       "       [9.98935759e-01, 1.05678616e-03, 7.55113024e-06],\n",
       "       [9.99999046e-01, 9.24478229e-07, 6.00472672e-10],\n",
       "       [1.00000000e+00, 2.40946618e-09, 8.98693897e-11],\n",
       "       [1.00000000e+00, 4.29819375e-11, 4.41540615e-15],\n",
       "       [1.00000000e+00, 2.52311665e-08, 3.90888932e-10],\n",
       "       [1.00000000e+00, 2.05264907e-08, 2.50223786e-10],\n",
       "       [9.99975443e-01, 2.44295898e-05, 1.15801029e-07],\n",
       "       [9.99998927e-01, 1.09643668e-06, 1.92610525e-10],\n",
       "       [9.99997735e-01, 2.13988505e-06, 9.53910018e-08],\n",
       "       [9.99999762e-01, 2.52655326e-07, 1.48599810e-09],\n",
       "       [9.99999881e-01, 7.87401220e-08, 5.66654224e-11],\n",
       "       [1.00000000e+00, 5.59785356e-08, 3.29349083e-11],\n",
       "       [1.00000000e+00, 1.16166730e-08, 5.30303752e-11],\n",
       "       [9.99999523e-01, 4.99359430e-07, 9.15880871e-10],\n",
       "       [9.99992609e-01, 6.75014553e-06, 6.05650939e-07],\n",
       "       [9.99822319e-01, 1.77379552e-04, 3.15142529e-07],\n",
       "       [1.00000000e+00, 2.39208973e-08, 1.36059809e-11],\n",
       "       [1.00000000e+00, 2.11857563e-11, 5.72803617e-15],\n",
       "       [9.99824822e-01, 1.75055000e-04, 1.68838881e-07],\n",
       "       [9.99925971e-01, 7.40825271e-05, 1.72223533e-08],\n",
       "       [1.00000000e+00, 2.80242690e-10, 5.38020253e-11],\n",
       "       [9.99987125e-01, 1.29130485e-05, 5.51144241e-10],\n",
       "       [1.00000000e+00, 3.32652696e-08, 4.13003724e-13],\n",
       "       [9.99652982e-01, 3.46945832e-04, 1.40362772e-07],\n",
       "       [9.99996662e-01, 3.32184959e-06, 2.79563057e-11],\n",
       "       [9.99999285e-01, 6.33153377e-07, 7.50855946e-08],\n",
       "       [1.00000000e+00, 7.22294780e-10, 7.44980141e-13],\n",
       "       [1.00000000e+00, 5.95428276e-08, 1.40430159e-12],\n",
       "       [1.00000000e+00, 5.87135851e-08, 6.34162558e-12],\n",
       "       [1.00000000e+00, 7.68893449e-10, 1.55924610e-15],\n",
       "       [9.99996305e-01, 3.72569411e-06, 4.39830616e-09],\n",
       "       [9.99999881e-01, 8.81696209e-08, 3.65271147e-10],\n",
       "       [9.99998450e-01, 1.55538635e-06, 8.81263562e-10],\n",
       "       [9.99999881e-01, 8.95367336e-08, 3.55655255e-10],\n",
       "       [9.99990702e-01, 9.31621344e-06, 1.90525995e-09],\n",
       "       [9.99998927e-01, 1.10684596e-06, 1.30406430e-09],\n",
       "       [1.00000000e+00, 1.25503566e-10, 5.71012481e-15],\n",
       "       [9.99999881e-01, 1.35929085e-07, 9.33340211e-13],\n",
       "       [1.00000000e+00, 3.88934496e-10, 2.01261295e-12],\n",
       "       [9.99999642e-01, 3.00562249e-07, 1.26034927e-09],\n",
       "       [1.00000000e+00, 1.10620964e-10, 2.69366560e-13],\n",
       "       [9.99998569e-01, 1.39179247e-06, 8.61828831e-09],\n",
       "       [9.99999762e-01, 1.94290564e-07, 7.08986481e-10],\n",
       "       [1.00000000e+00, 2.77152834e-09, 1.73246521e-11],\n",
       "       [9.99984980e-01, 1.48762529e-05, 1.36596952e-07],\n",
       "       [1.00000000e+00, 2.06264907e-08, 3.96283978e-11],\n",
       "       [1.00000000e+00, 1.08487419e-09, 9.34040172e-13],\n",
       "       [1.00000000e+00, 4.68099266e-08, 1.89027308e-10],\n",
       "       [9.99999881e-01, 1.13406756e-07, 5.44234519e-11],\n",
       "       [9.99525189e-01, 4.72486805e-04, 2.43931845e-06],\n",
       "       [9.99997735e-01, 2.29119473e-06, 5.84541056e-08],\n",
       "       [9.99999881e-01, 1.38535512e-07, 1.37805559e-10],\n",
       "       [9.99992132e-01, 6.49977528e-06, 1.35190942e-06],\n",
       "       [9.99998689e-01, 1.26081636e-06, 2.57259760e-08],\n",
       "       [9.99978781e-01, 2.10746803e-05, 6.67528752e-08],\n",
       "       [9.99989867e-01, 1.01733640e-05, 5.29968291e-09],\n",
       "       [1.00000000e+00, 5.05711117e-09, 1.11784280e-11],\n",
       "       [1.00000000e+00, 4.59893501e-09, 3.84524808e-11],\n",
       "       [7.31101454e-06, 9.98553813e-01, 1.43886183e-03],\n",
       "       [3.98531455e-07, 9.66924191e-01, 3.30754742e-02],\n",
       "       [2.02649244e-06, 9.99985814e-01, 1.22043439e-05],\n",
       "       [1.68205770e-05, 9.99271572e-01, 7.11590517e-04],\n",
       "       [2.16482749e-05, 9.99903321e-01, 7.50170948e-05],\n",
       "       [2.41806401e-11, 9.99500513e-01, 4.99421440e-04],\n",
       "       [7.54485825e-07, 9.99683142e-01, 3.16127582e-04],\n",
       "       [3.09512870e-07, 9.99021769e-01, 9.77845513e-04],\n",
       "       [1.27739355e-07, 9.91444170e-01, 8.55573639e-03],\n",
       "       [1.20285549e-03, 9.65860903e-01, 3.29363048e-02],\n",
       "       [1.06887774e-06, 9.53769088e-01, 4.62298766e-02],\n",
       "       [2.60966026e-05, 9.94954288e-01, 5.01961820e-03],\n",
       "       [1.71276679e-05, 9.98487592e-01, 1.49520312e-03],\n",
       "       [6.13054425e-08, 9.95381355e-01, 4.61850688e-03],\n",
       "       [3.44754699e-06, 9.99535561e-01, 4.61039424e-04],\n",
       "       [2.80948242e-08, 9.99631524e-01, 3.68470355e-04],\n",
       "       [2.05188371e-05, 9.99603689e-01, 3.75850243e-04],\n",
       "       [2.24203522e-09, 9.99420643e-01, 5.79369545e-04],\n",
       "       [1.99320061e-06, 9.99952078e-01, 4.58843788e-05],\n",
       "       [8.69849600e-07, 9.90522802e-01, 9.47632827e-03],\n",
       "       [2.72105881e-05, 9.99574125e-01, 3.98752716e-04],\n",
       "       [1.52507610e-05, 9.99637842e-01, 3.46932298e-04],\n",
       "       [2.81715245e-07, 9.91737187e-01, 8.26252159e-03],\n",
       "       [4.93027437e-05, 9.93575037e-01, 6.37573935e-03],\n",
       "       [8.67822394e-03, 9.88178849e-01, 3.14285234e-03],\n",
       "       [2.50418998e-06, 9.99197900e-01, 7.99608708e-04],\n",
       "       [7.28819987e-06, 9.98141289e-01, 1.85147149e-03],\n",
       "       [2.57795790e-07, 9.89979506e-01, 1.00202356e-02],\n",
       "       [1.41343591e-07, 9.93069708e-01, 6.93009933e-03],\n",
       "       [3.62294372e-08, 9.99981284e-01, 1.86589859e-05],\n",
       "       [1.95804614e-06, 9.99314427e-01, 6.83676975e-04],\n",
       "       [6.16397119e-06, 9.99721229e-01, 2.72503414e-04],\n",
       "       [4.32819576e-08, 9.97854888e-01, 2.14511622e-03],\n",
       "       [2.27300134e-07, 9.94394541e-01, 5.60526550e-03],\n",
       "       [1.47485210e-07, 9.92135644e-01, 7.86418747e-03],\n",
       "       [9.66307312e-07, 9.99928474e-01, 7.05091079e-05],\n",
       "       [1.17680095e-07, 9.99901414e-01, 9.84188955e-05],\n",
       "       [3.96262969e-08, 9.99083757e-01, 9.16194927e-04],\n",
       "       [3.36217810e-04, 9.73152339e-01, 2.65114494e-02],\n",
       "       [2.99066505e-06, 9.69594538e-01, 3.04025114e-02],\n",
       "       [6.22431162e-06, 9.94257808e-01, 5.73593471e-03],\n",
       "       [1.46554751e-08, 9.99178588e-01, 8.21370922e-04],\n",
       "       [3.90484856e-05, 9.81471121e-01, 1.84897743e-02],\n",
       "       [2.99954849e-07, 9.95750308e-01, 4.24934411e-03],\n",
       "       [6.86143267e-07, 9.64359760e-01, 3.56394984e-02],\n",
       "       [5.30927821e-07, 9.99838948e-01, 1.60500422e-04],\n",
       "       [4.64226019e-07, 9.85415101e-01, 1.45843942e-02],\n",
       "       [7.98731534e-08, 9.83622611e-01, 1.63772926e-02],\n",
       "       [4.12480658e-05, 9.99435484e-01, 5.23238385e-04],\n",
       "       [2.68309375e-09, 9.96394455e-01, 3.60557437e-03],\n",
       "       [3.25454026e-03, 9.66147900e-01, 3.05974800e-02],\n",
       "       [5.49616068e-08, 9.99980927e-01, 1.91257805e-05],\n",
       "       [1.78220089e-05, 9.71858561e-01, 2.81235632e-02],\n",
       "       [3.21589073e-06, 9.98872817e-01, 1.12393219e-03],\n",
       "       [2.67898558e-05, 9.99671578e-01, 3.01619380e-04],\n",
       "       [1.71874817e-07, 9.19074416e-01, 8.09254199e-02],\n",
       "       [3.78783094e-04, 9.99265850e-01, 3.55385448e-04],\n",
       "       [8.43080808e-04, 9.67578769e-01, 3.15782279e-02],\n",
       "       [2.87431874e-04, 9.97353315e-01, 2.35925289e-03],\n",
       "       [3.92513414e-07, 9.98937309e-01, 1.06231554e-03],\n",
       "       [5.54414328e-06, 9.99307394e-01, 6.87038817e-04],\n",
       "       [4.59442532e-07, 9.98133719e-01, 1.86588254e-03],\n",
       "       [3.01507228e-08, 9.99696493e-01, 3.03588720e-04],\n",
       "       [1.56950541e-08, 9.65024650e-01, 3.49753648e-02],\n",
       "       [1.30767773e-06, 9.95880723e-01, 4.11800249e-03],\n",
       "       [4.05719547e-08, 9.98780549e-01, 1.21950638e-03],\n",
       "       [8.37335028e-06, 9.94541705e-01, 5.44985663e-03],\n",
       "       [1.63058402e-07, 9.99332249e-01, 6.67574524e-04],\n",
       "       [3.60937626e-08, 9.96230781e-01, 3.76925082e-03],\n",
       "       [1.75114891e-07, 9.94045496e-01, 5.95439225e-03],\n",
       "       [2.97559163e-04, 9.84759748e-01, 1.49426153e-02],\n",
       "       [1.64116273e-07, 9.99044359e-01, 9.55544238e-04],\n",
       "       [7.03355596e-08, 9.64283645e-01, 3.57162990e-02],\n",
       "       [3.42190930e-07, 9.42373753e-01, 5.76258488e-02],\n",
       "       [1.72010652e-04, 9.56560373e-01, 4.32676487e-02],\n",
       "       [5.72335208e-04, 9.77749646e-01, 2.16780119e-02],\n",
       "       [1.20607160e-08, 9.98751760e-01, 1.24821288e-03],\n",
       "       [1.88522914e-04, 9.98932540e-01, 8.78958323e-04],\n",
       "       [1.96550744e-07, 9.99964237e-01, 3.54850054e-05],\n",
       "       [3.38391737e-06, 9.97108877e-01, 2.88784644e-03],\n",
       "       [6.03264683e-09, 9.99888182e-01, 1.11767484e-04],\n",
       "       [6.77666037e-07, 9.98118818e-01, 1.88045099e-03],\n",
       "       [6.16649777e-06, 9.99957442e-01, 3.63535364e-05],\n",
       "       [2.25677286e-05, 9.99966025e-01, 1.14239383e-05],\n",
       "       [8.41804315e-09, 9.99267280e-01, 7.32670480e-04],\n",
       "       [2.68226796e-09, 9.95128751e-01, 4.87124827e-03],\n",
       "       [9.41785743e-07, 9.99814332e-01, 1.84705641e-04],\n",
       "       [3.06786809e-08, 9.99283135e-01, 7.16905750e-04],\n",
       "       [3.88950525e-07, 9.99700189e-01, 2.99444306e-04],\n",
       "       [2.54895160e-04, 9.99582350e-01, 1.62808530e-04],\n",
       "       [8.73346435e-05, 9.85664964e-01, 1.42477881e-02],\n",
       "       [2.95813635e-07, 9.92550850e-01, 7.44884973e-03],\n",
       "       [1.98726211e-05, 9.62059796e-01, 3.79203707e-02],\n",
       "       [1.37919042e-05, 9.97340262e-01, 2.64597428e-03],\n",
       "       [4.19601156e-06, 8.84721696e-01, 1.15274079e-01],\n",
       "       [9.41038678e-08, 9.85921443e-01, 1.40784569e-02],\n",
       "       [5.97222325e-08, 9.98971224e-01, 1.02867326e-03],\n",
       "       [1.71175652e-05, 9.97099519e-01, 2.88341893e-03],\n",
       "       [2.94695656e-05, 9.99350011e-01, 6.20591280e-04],\n",
       "       [1.38153428e-06, 9.98307109e-01, 1.69144967e-03],\n",
       "       [6.39345377e-09, 1.22746424e-04, 9.99877214e-01],\n",
       "       [8.68640992e-11, 2.39083631e-04, 9.99760926e-01],\n",
       "       [1.20036929e-13, 4.76355353e-07, 9.99999523e-01],\n",
       "       [4.16385225e-11, 2.54343668e-05, 9.99974608e-01],\n",
       "       [8.09745992e-10, 2.10815502e-04, 9.99789178e-01],\n",
       "       [6.34990394e-11, 8.29913362e-04, 9.99170065e-01],\n",
       "       [4.63641170e-09, 5.89368537e-05, 9.99941111e-01],\n",
       "       [2.45182104e-11, 3.68311303e-05, 9.99963164e-01],\n",
       "       [1.83915361e-09, 7.76446359e-06, 9.99992251e-01],\n",
       "       [1.88674879e-12, 6.45946056e-05, 9.99935389e-01],\n",
       "       [7.18330950e-12, 3.70216300e-03, 9.96297896e-01],\n",
       "       [2.45499754e-09, 4.53496492e-03, 9.95465100e-01],\n",
       "       [4.43255120e-11, 8.23578739e-05, 9.99917626e-01],\n",
       "       [1.19885208e-05, 9.01172459e-02, 9.09870744e-01],\n",
       "       [2.81757706e-09, 5.65489638e-04, 9.99434531e-01],\n",
       "       [1.38501621e-09, 7.25346664e-03, 9.92746532e-01],\n",
       "       [9.47831440e-13, 1.80340121e-05, 9.99981999e-01],\n",
       "       [8.46966160e-12, 2.81176792e-04, 9.99718845e-01],\n",
       "       [3.30043215e-10, 9.80866826e-05, 9.99901891e-01],\n",
       "       [2.59175858e-11, 9.61033365e-05, 9.99903917e-01],\n",
       "       [1.63460554e-12, 1.04619168e-04, 9.99895334e-01],\n",
       "       [1.94463391e-12, 4.31101835e-05, 9.99956846e-01],\n",
       "       [9.59175502e-14, 2.88867113e-06, 9.99997139e-01],\n",
       "       [2.43157994e-10, 7.24618121e-06, 9.99992728e-01],\n",
       "       [3.65746530e-11, 1.08609034e-04, 9.99891400e-01],\n",
       "       [5.95718441e-15, 8.59237800e-04, 9.99140739e-01],\n",
       "       [5.73139296e-08, 1.78720104e-04, 9.99821246e-01],\n",
       "       [1.94078423e-14, 1.96276915e-06, 9.99998093e-01],\n",
       "       [7.17588272e-12, 5.51851808e-05, 9.99944806e-01],\n",
       "       [6.35482708e-11, 9.34846976e-05, 9.99906540e-01],\n",
       "       [1.28327382e-09, 1.25071929e-05, 9.99987483e-01],\n",
       "       [1.07613574e-09, 1.36119570e-03, 9.98638809e-01],\n",
       "       [8.74344347e-11, 8.25056559e-05, 9.99917507e-01],\n",
       "       [2.86713760e-11, 1.65993333e-04, 9.99833941e-01],\n",
       "       [4.27382663e-09, 7.38300441e-04, 9.99261677e-01],\n",
       "       [3.77356901e-09, 3.78015920e-06, 9.99996185e-01],\n",
       "       [1.65382291e-12, 3.62486244e-05, 9.99963760e-01],\n",
       "       [1.95694589e-11, 4.17843512e-05, 9.99958158e-01],\n",
       "       [1.25042032e-15, 4.92773268e-07, 9.99999523e-01],\n",
       "       [4.87745122e-10, 1.42321616e-04, 9.99857664e-01],\n",
       "       [7.99419819e-12, 1.66736403e-03, 9.98332679e-01],\n",
       "       [4.67600676e-14, 9.71779536e-06, 9.99990225e-01],\n",
       "       [8.24966762e-09, 3.85738007e-04, 9.99614239e-01],\n",
       "       [2.07578676e-11, 4.59433522e-06, 9.99995351e-01],\n",
       "       [4.58323345e-11, 3.90633541e-05, 9.99960899e-01],\n",
       "       [1.32550004e-11, 1.91566287e-05, 9.99980807e-01],\n",
       "       [1.33135397e-12, 1.38143252e-04, 9.99861836e-01],\n",
       "       [9.28906452e-10, 2.74605100e-05, 9.99972582e-01],\n",
       "       [2.16682956e-11, 8.74165737e-04, 9.99125898e-01],\n",
       "       [5.54125738e-11, 3.69826303e-04, 9.99630213e-01],\n",
       "       [3.73733206e-12, 1.12121541e-03, 9.98878777e-01],\n",
       "       [3.92834897e-12, 3.52280790e-06, 9.99996424e-01],\n",
       "       [1.05754706e-12, 3.00331012e-05, 9.99969959e-01],\n",
       "       [1.63550770e-10, 7.74396409e-04, 9.99225616e-01],\n",
       "       [5.85516531e-12, 7.55287829e-06, 9.99992490e-01],\n",
       "       [1.02776100e-10, 2.71048509e-02, 9.72895086e-01],\n",
       "       [1.19300969e-09, 4.13141010e-04, 9.99586880e-01],\n",
       "       [6.43683151e-08, 2.71530030e-03, 9.97284651e-01],\n",
       "       [4.20911056e-10, 1.29359763e-03, 9.98706341e-01],\n",
       "       [4.53202437e-14, 1.18237585e-06, 9.99998808e-01],\n",
       "       [5.76498137e-12, 3.45096305e-05, 9.99965549e-01],\n",
       "       [2.20696386e-08, 1.10782427e-03, 9.98892128e-01],\n",
       "       [8.24780105e-11, 5.94337890e-03, 9.94056582e-01],\n",
       "       [4.78759876e-09, 2.55837804e-05, 9.99974370e-01],\n",
       "       [5.74076637e-12, 7.26341852e-04, 9.99273717e-01],\n",
       "       [3.54207744e-12, 9.00570376e-06, 9.99990940e-01],\n",
       "       [6.31898422e-11, 3.70304660e-05, 9.99962926e-01],\n",
       "       [4.91920720e-14, 3.47252353e-05, 9.99965310e-01],\n",
       "       [1.85448965e-11, 4.91834217e-05, 9.99950767e-01],\n",
       "       [3.39782286e-10, 9.41545077e-05, 9.99905825e-01],\n",
       "       [7.05281211e-13, 1.24142307e-05, 9.99987602e-01],\n",
       "       [3.11566328e-09, 3.63533210e-04, 9.99636412e-01],\n",
       "       [3.99956086e-08, 7.71902327e-04, 9.99228001e-01],\n",
       "       [5.16580898e-14, 3.61823477e-05, 9.99963760e-01],\n",
       "       [9.09658308e-13, 2.77671759e-04, 9.99722302e-01],\n",
       "       [1.55375289e-12, 6.69510555e-05, 9.99933004e-01],\n",
       "       [3.66924130e-10, 1.56871695e-02, 9.84312773e-01],\n",
       "       [3.33259559e-10, 5.51156045e-05, 9.99944925e-01],\n",
       "       [3.28417567e-12, 4.13052112e-05, 9.99958634e-01],\n",
       "       [1.54901578e-11, 1.98997115e-03, 9.98010099e-01],\n",
       "       [2.05856616e-11, 6.04452973e-04, 9.99395490e-01],\n",
       "       [4.54182895e-14, 1.83571919e-05, 9.99981642e-01],\n",
       "       [2.68156786e-12, 7.36442918e-04, 9.99263585e-01],\n",
       "       [4.63565547e-15, 1.57512022e-06, 9.99998450e-01],\n",
       "       [8.16636689e-11, 2.21375922e-05, 9.99977827e-01],\n",
       "       [3.25389449e-09, 6.88090513e-05, 9.99931216e-01],\n",
       "       [1.05261417e-08, 2.20894404e-02, 9.77910578e-01],\n",
       "       [1.61993057e-06, 6.25071349e-04, 9.99373376e-01],\n",
       "       [1.20247734e-07, 4.59394127e-04, 9.99540567e-01],\n",
       "       [2.38757414e-09, 1.18054508e-03, 9.98819411e-01],\n",
       "       [6.67074218e-09, 1.00911064e-04, 9.99899030e-01],\n",
       "       [6.78616772e-08, 3.57533526e-03, 9.96424615e-01],\n",
       "       [4.31751328e-15, 8.83809116e-06, 9.99991179e-01],\n",
       "       [3.19933750e-12, 1.01186461e-05, 9.99989867e-01],\n",
       "       [9.30710509e-11, 9.32120383e-05, 9.99906778e-01],\n",
       "       [2.66036015e-09, 1.04723571e-04, 9.99895215e-01],\n",
       "       [9.30794341e-14, 1.08439621e-04, 9.99891520e-01],\n",
       "       [7.23998639e-12, 1.28020765e-04, 9.99871969e-01],\n",
       "       [1.37306605e-12, 2.10331025e-04, 9.99789655e-01],\n",
       "       [7.10722869e-10, 1.40404052e-04, 9.99859571e-01]], dtype=float32)"
      ]
     },
     "execution_count": 75,
     "metadata": {},
     "output_type": "execute_result"
    }
   ],
   "source": [
    "model.predict(X)"
   ]
  },
  {
   "cell_type": "code",
   "execution_count": 85,
   "metadata": {},
   "outputs": [
    {
     "data": {
      "text/plain": [
       "1.0"
      ]
     },
     "execution_count": 85,
     "metadata": {},
     "output_type": "execute_result"
    }
   ],
   "source": [
    "np.mean(model.predict_classes(X) == np.argmax(Y,1))"
   ]
  }
 ],
 "metadata": {
  "kernelspec": {
   "display_name": "Python 3",
   "language": "python",
   "name": "python3"
  },
  "language_info": {
   "codemirror_mode": {
    "name": "ipython",
    "version": 3
   },
   "file_extension": ".py",
   "mimetype": "text/x-python",
   "name": "python",
   "nbconvert_exporter": "python",
   "pygments_lexer": "ipython3",
   "version": "3.6.5"
  }
 },
 "nbformat": 4,
 "nbformat_minor": 2
}
