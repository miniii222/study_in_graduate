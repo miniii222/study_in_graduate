{
 "cells": [
  {
   "cell_type": "code",
   "execution_count": 1,
   "metadata": {},
   "outputs": [
    {
     "name": "stderr",
     "output_type": "stream",
     "text": [
      "Using TensorFlow backend.\n"
     ]
    }
   ],
   "source": [
    "import numpy as np\n",
    "from keras.models import Sequential\n",
    "from keras.layers import Dense\n",
    "from keras.layers import LSTM\n",
    "\n",
    "from matplotlib import pyplot as plt"
   ]
  },
  {
   "cell_type": "code",
   "execution_count": 2,
   "metadata": {},
   "outputs": [],
   "source": [
    "def sin(x,T=100) :\n",
    "    return np.sin(2.0*np.pi*x/T)"
   ]
  },
  {
   "cell_type": "code",
   "execution_count": 3,
   "metadata": {},
   "outputs": [],
   "source": [
    "def toy_problem(T=100,ampl=0.05) :\n",
    "    x=np.arange(0,2*T+1)\n",
    "    noise=ampl*np.random.uniform(low=-1,high=1,size=len(x))\n",
    "    return sin(x)+noise"
   ]
  },
  {
   "cell_type": "code",
   "execution_count": 4,
   "metadata": {},
   "outputs": [
    {
     "data": {
      "text/plain": [
       "[<matplotlib.lines.Line2D at 0x2d96ecbdd30>]"
      ]
     },
     "execution_count": 4,
     "metadata": {},
     "output_type": "execute_result"
    },
    {
     "data": {
      "image/png": "[encoded data removed]",
      "text/plain": [
       "<Figure size 432x288 with 1 Axes>"
      ]
     },
     "metadata": {
      "needs_background": "light"
     },
     "output_type": "display_data"
    }
   ],
   "source": [
    "f=toy_problem(T=100,ampl=0.05)\n",
    "x=np.arange(0,200+1)*(np.pi*4)/200\n",
    "plt.plot(x,f)"
   ]
  },
  {
   "cell_type": "markdown",
   "metadata": {},
   "source": [
    "## keras"
   ]
  },
  {
   "cell_type": "code",
   "execution_count": 5,
   "metadata": {},
   "outputs": [],
   "source": [
    "length_of_sequence=2*100\n",
    "maxlen=25\n",
    "\n",
    "data=[]\n",
    "target=[]\n",
    "for i in range(0,length_of_sequence-maxlen+1) :\n",
    "    data.append(f[i:(i+maxlen)])\n",
    "    target.append(f[i+maxlen])"
   ]
  },
  {
   "cell_type": "code",
   "execution_count": 6,
   "metadata": {},
   "outputs": [],
   "source": [
    "X=np.array(data)\n",
    "X=np.array(data).reshape(len(data),maxlen,1)\n",
    "y=np.array(target).reshape(len(data),1)"
   ]
  },
  {
   "cell_type": "code",
   "execution_count": 7,
   "metadata": {
    "scrolled": true
   },
   "outputs": [
    {
     "name": "stdout",
     "output_type": "stream",
     "text": [
      "Train on 123 samples, validate on 53 samples\n",
      "Epoch 1/30\n",
      " - 1s - loss: 0.4756 - val_loss: 0.3796\n",
      "Epoch 2/30\n",
      " - 0s - loss: 0.2103 - val_loss: 0.2386\n",
      "Epoch 3/30\n",
      " - 0s - loss: 0.1253 - val_loss: 0.1165\n",
      "Epoch 4/30\n",
      " - 0s - loss: 0.0875 - val_loss: 0.0696\n",
      "Epoch 5/30\n",
      " - 0s - loss: 0.0647 - val_loss: 0.0588\n",
      "Epoch 6/30\n",
      " - 0s - loss: 0.0485 - val_loss: 0.0465\n",
      "Epoch 7/30\n",
      " - 0s - loss: 0.0357 - val_loss: 0.0312\n",
      "Epoch 8/30\n",
      " - 0s - loss: 0.0233 - val_loss: 0.0191\n",
      "Epoch 9/30\n",
      " - 0s - loss: 0.0130 - val_loss: 0.0089\n",
      "Epoch 10/30\n",
      " - 0s - loss: 0.0053 - val_loss: 0.0030\n",
      "Epoch 11/30\n",
      " - 0s - loss: 0.0026 - val_loss: 0.0026\n",
      "Epoch 12/30\n",
      " - 0s - loss: 0.0024 - val_loss: 0.0027\n",
      "Epoch 13/30\n",
      " - 0s - loss: 0.0021 - val_loss: 0.0021\n",
      "Epoch 14/30\n",
      " - 0s - loss: 0.0019 - val_loss: 0.0021\n",
      "Epoch 15/30\n",
      " - 0s - loss: 0.0018 - val_loss: 0.0020\n",
      "Epoch 16/30\n",
      " - 0s - loss: 0.0016 - val_loss: 0.0017\n",
      "Epoch 17/30\n",
      " - 0s - loss: 0.0017 - val_loss: 0.0016\n",
      "Epoch 18/30\n",
      " - 0s - loss: 0.0017 - val_loss: 0.0016\n",
      "Epoch 19/30\n",
      " - 0s - loss: 0.0015 - val_loss: 0.0013\n",
      "Epoch 20/30\n",
      " - 0s - loss: 0.0015 - val_loss: 0.0014\n",
      "Epoch 21/30\n",
      " - 0s - loss: 0.0015 - val_loss: 0.0013\n",
      "Epoch 22/30\n",
      " - 0s - loss: 0.0013 - val_loss: 0.0014\n",
      "Epoch 23/30\n",
      " - 0s - loss: 0.0015 - val_loss: 0.0013\n",
      "Epoch 24/30\n",
      " - 0s - loss: 0.0016 - val_loss: 0.0014\n",
      "Epoch 25/30\n",
      " - 0s - loss: 0.0013 - val_loss: 0.0012\n",
      "Epoch 26/30\n",
      " - 0s - loss: 0.0013 - val_loss: 0.0012\n",
      "Epoch 27/30\n",
      " - 0s - loss: 0.0013 - val_loss: 0.0012\n",
      "Epoch 28/30\n",
      " - 0s - loss: 0.0012 - val_loss: 0.0012\n",
      "Epoch 29/30\n",
      " - 0s - loss: 0.0013 - val_loss: 0.0012\n",
      "Epoch 30/30\n",
      " - 0s - loss: 0.0013 - val_loss: 0.0011\n"
     ]
    },
    {
     "data": {
      "text/plain": [
       "<keras.callbacks.History at 0x2d96ef01400>"
      ]
     },
     "execution_count": 7,
     "metadata": {},
     "output_type": "execute_result"
    }
   ],
   "source": [
    "model = Sequential()\n",
    "model.add(LSTM(32, input_shape=(X.shape[1], X.shape[2])))\n",
    "model.add(Dense(y.shape[1], activation='linear'))\n",
    "model.compile(loss='mean_squared_error', optimizer='adam')\n",
    "model.fit(X, y, epochs=30, batch_size=10, verbose=2, validation_split=0.3)"
   ]
  },
  {
   "cell_type": "code",
   "execution_count": 8,
   "metadata": {},
   "outputs": [],
   "source": [
    "y_hat = model.predict(X)"
   ]
  },
  {
   "cell_type": "code",
   "execution_count": 9,
   "metadata": {},
   "outputs": [
    {
     "data": {
      "text/plain": [
       "((176, 25, 1), (176, 1))"
      ]
     },
     "execution_count": 9,
     "metadata": {},
     "output_type": "execute_result"
    }
   ],
   "source": [
    "X.shape,X[:,0,:].shape"
   ]
  },
  {
   "cell_type": "code",
   "execution_count": 10,
   "metadata": {},
   "outputs": [],
   "source": [
    "Z=X[:1]\n",
    "original = [f[i] for i in range(maxlen)]\n",
    "predicted = [None for i in range(maxlen)]\n",
    "\n",
    "for i in range(length_of_sequence-maxlen+1):\n",
    "    z_ = Z[-1:]\n",
    "    y_ = model.predict(z_)\n",
    "    sequence_ = np.concatenate(\n",
    "       (z_.reshape(maxlen, 1)[1:], y_), axis=0).reshape(1, maxlen, 1)\n",
    "    Z=np.append(z_, sequence_, axis=0)\n",
    "    predicted.append(y_.reshape(-1))"
   ]
  },
  {
   "cell_type": "code",
   "execution_count": 11,
   "metadata": {},
   "outputs": [
    {
     "data": {
      "text/plain": [
       "<matplotlib.legend.Legend at 0x2d971a76c50>"
      ]
     },
     "execution_count": 11,
     "metadata": {},
     "output_type": "execute_result"
    },
    {
     "data": {
      "image/png": "[encoded data removed]",
      "text/plain": [
       "<Figure size 432x288 with 1 Axes>"
      ]
     },
     "metadata": {
      "needs_background": "light"
     },
     "output_type": "display_data"
    }
   ],
   "source": [
    "plt.plot(toy_problem(T=100, ampl=0), linestyle=\"dotted\")\n",
    "plt.plot(original, linestyle=\"dashed\")\n",
    "plt.plot(predicted)\n",
    "plt.legend([\"y\",\"original\",\"predict\"])"
   ]
  },
  {
   "cell_type": "markdown",
   "metadata": {},
   "source": [
    "## tensorflow"
   ]
  },
  {
   "cell_type": "code",
   "execution_count": 12,
   "metadata": {},
   "outputs": [],
   "source": [
    "import tensorflow as tf"
   ]
  },
  {
   "cell_type": "code",
   "execution_count": 13,
   "metadata": {},
   "outputs": [],
   "source": [
    "n_in=1  # n-in\n",
    "n_out=1   # n-out\n",
    "\n",
    "maxlen=25 # maxlen\n",
    "n_hidden=30  # n_hidden\n",
    "forget_bias=1.0  # 망각편행 (기본값 1.0)\n",
    "num_stacked_layers=1  # stacked LSTM layers 갯수\n",
    "\n",
    "epoch_num=1000  # epoch\n",
    "learning_rate=0.01"
   ]
  },
  {
   "cell_type": "code",
   "execution_count": 14,
   "metadata": {},
   "outputs": [],
   "source": [
    "# 학습용/테스트용 데이터 생성\n",
    "# 전체 70%를 학습용 데이터로 사용\n",
    "train_size = int(len(X) * 0.9)\n",
    "# 나머지(30%)를 테스트용 데이터로 사용\n",
    "test_size = len(y) - train_size\n",
    " \n",
    "# 데이터를 잘라 학습용 데이터 생성\n",
    "trainX = np.array(X[0:train_size])\n",
    "trainY = np.array(y[0:train_size])\n",
    " \n",
    "# 데이터를 잘라 테스트용 데이터 생성\n",
    "testX = np.array(X[train_size:len(X)])\n",
    "testY = np.array(y[train_size:len(y)])"
   ]
  },
  {
   "cell_type": "code",
   "execution_count": 15,
   "metadata": {},
   "outputs": [],
   "source": [
    "X=tf.placeholder(tf.float32,[None,maxlen,n_in])   # input data\n",
    "Y=tf.placeholder(tf.float32,[None,1])             # output data (true)\n",
    "\n",
    "targets=tf.placeholder(tf.float32,[None,1])       # true value\n",
    "predictions=tf.placeholder(tf.float32,[None,1])   # predicted value"
   ]
  },
  {
   "cell_type": "code",
   "execution_count": 16,
   "metadata": {},
   "outputs": [],
   "source": [
    "num_hidden = 30\n",
    "def lstm_cell() :\n",
    "    cell = tf.nn.rnn_cell.LSTMCell(num_hidden,forget_bias=forget_bias,\n",
    "                                    state_is_tuple=True,activation=tf.nn.softsign)\n",
    "        #If state_is_tuple=True, accepted and returned states are 2-tuples of the `c_state` and `m_state`\n",
    "    return cell"
   ]
  },
  {
   "cell_type": "code",
   "execution_count": 20,
   "metadata": {},
   "outputs": [],
   "source": [
    "stackedRNNs=[lstm_cell() for _ in range(num_stacked_layers)]\n",
    "multi_cells=tf.contrib.rnn.MultiRNNCell(stackedRNNs,state_is_tuple=True) if num_stacked_layers > 1 else lstm_cell()\n",
    "                # RNN cell composed sequentially of multiple simple cells."
   ]
  },
  {
   "cell_type": "code",
   "execution_count": 20,
   "metadata": {},
   "outputs": [],
   "source": [
    "hypothesis, _states=tf.nn.dynamic_rnn(multi_cells,X,dtype=tf.float32)\n",
    "                # Creates a recurrent neural network specified by RNNCell `cell`."
   ]
  },
  {
   "cell_type": "code",
   "execution_count": 21,
   "metadata": {},
   "outputs": [],
   "source": [
    "hypothesis = tf.contrib.layers.fully_connected(hypothesis[:, -1], n_out, activation_fn=tf.identity)\n",
    "                # Adds a fully connected layer.\n",
    "                # Returns: The tensor variable representing the result of the series of operations."
   ]
  },
  {
   "cell_type": "code",
   "execution_count": 22,
   "metadata": {},
   "outputs": [],
   "source": [
    "loss=tf.reduce_sum(tf.square(hypothesis-Y))  # hypothesis : yhat  Y : true\n",
    "optimizer=tf.train.AdamOptimizer(learning_rate)"
   ]
  },
  {
   "cell_type": "code",
   "execution_count": 23,
   "metadata": {},
   "outputs": [],
   "source": [
    "train=optimizer.minimize(loss)"
   ]
  },
  {
   "cell_type": "code",
   "execution_count": 24,
   "metadata": {},
   "outputs": [],
   "source": [
    "rmse=tf.sqrt(tf.reduce_mean(tf.squared_difference(targets,predictions)))"
   ]
  },
  {
   "cell_type": "code",
   "execution_count": 25,
   "metadata": {},
   "outputs": [],
   "source": [
    "train_error_summary=[]\n",
    "test_error_summary=[]\n",
    "test_predict=''"
   ]
  },
  {
   "cell_type": "code",
   "execution_count": 26,
   "metadata": {},
   "outputs": [],
   "source": [
    "sess=tf.Session()\n",
    "sess.run(tf.global_variables_initializer())"
   ]
  },
  {
   "cell_type": "code",
   "execution_count": 27,
   "metadata": {},
   "outputs": [
    {
     "name": "stdout",
     "output_type": "stream",
     "text": [
      "epoch: 100, train_error(A): 0.0330936424434185, test_error(B): 0.03965972363948822\n",
      "epoch: 200, train_error(A): 0.03199698030948639, test_error(B): 0.039070021361112595\n",
      "epoch: 300, train_error(A): 0.031202804297208786, test_error(B): 0.03775999695062637\n",
      "epoch: 400, train_error(A): 0.030527954921126366, test_error(B): 0.03694497421383858\n",
      "epoch: 500, train_error(A): 0.030081050470471382, test_error(B): 0.03662295266985893\n",
      "epoch: 600, train_error(A): 0.02941262535750866, test_error(B): 0.03589935600757599\n",
      "epoch: 700, train_error(A): 0.028727930039167404, test_error(B): 0.035014569759368896\n",
      "epoch: 800, train_error(A): 0.029073582962155342, test_error(B): 0.03551355004310608\n",
      "epoch: 900, train_error(A): 0.028263337910175323, test_error(B): 0.03523443639278412\n",
      "epoch: 1000, train_error(A): 0.02774849906563759, test_error(B): 0.03541535511612892\n"
     ]
    }
   ],
   "source": [
    "for epoch in range(epoch_num):\n",
    "    _, _loss = sess.run([train, loss], feed_dict={X: trainX, Y: trainY})\n",
    "    if ((epoch+1) % 100 == 0) or (epoch == epoch_num-1): # 100번째마다 또는 마지막 epoch인 경우\n",
    "        # 학습용데이터로 rmse오차를 구한다\n",
    "        train_predict = sess.run(hypothesis, feed_dict={X: trainX})\n",
    "        train_error = sess.run(rmse, feed_dict={targets: trainY, predictions: train_predict})\n",
    "        train_error_summary.append(train_error)\n",
    " \n",
    "        # 테스트용데이터로 rmse오차를 구한다\n",
    "        test_predict = sess.run(hypothesis, feed_dict={X: testX})\n",
    "        test_error = sess.run(rmse, feed_dict={targets: testY, predictions: test_predict})\n",
    "        test_error_summary.append(test_error)\n",
    "        \n",
    "        # 현재 오류를 출력한다\n",
    "        print(\"epoch: {}, train_error(A): {}, test_error(B): {}\".format(epoch+1, train_error, test_error))\n"
   ]
  },
  {
   "cell_type": "code",
   "execution_count": 28,
   "metadata": {},
   "outputs": [],
   "source": [
    "epochs=1000\n",
    "batch_size=10\n",
    "init = tf.global_variables_initializer()\n",
    "sess = tf.Session()\n",
    "sess.run(init)\n",
    "\n",
    "n_batches = len(trainX) // batch_size\n",
    "from sklearn.utils import shuffle"
   ]
  },
  {
   "cell_type": "code",
   "execution_count": 29,
   "metadata": {},
   "outputs": [
    {
     "name": "stdout",
     "output_type": "stream",
     "text": [
      "epoch: 0 validation loss: 4.867318\n",
      "epoch: 50 validation loss: 0.050940014\n",
      "epoch: 100 validation loss: 0.03227663\n",
      "epoch: 150 validation loss: 0.031623192\n",
      "epoch: 200 validation loss: 0.028093051\n",
      "epoch: 250 validation loss: 0.045136765\n",
      "epoch: 300 validation loss: 0.033245973\n",
      "epoch: 350 validation loss: 0.030391403\n",
      "epoch: 400 validation loss: 0.042226277\n",
      "epoch: 450 validation loss: 0.043799687\n",
      "epoch: 500 validation loss: 0.033298608\n",
      "epoch: 550 validation loss: 0.045119725\n",
      "epoch: 600 validation loss: 0.02855884\n",
      "epoch: 650 validation loss: 0.027956735\n",
      "epoch: 700 validation loss: 0.035414644\n",
      "epoch: 750 validation loss: 0.032760274\n",
      "epoch: 800 validation loss: 0.044246662\n",
      "epoch: 850 validation loss: 0.03614689\n",
      "epoch: 900 validation loss: 0.046135135\n",
      "epoch: 950 validation loss: 0.035657883\n",
      "epoch: 999 validation loss: 0.04677797\n"
     ]
    }
   ],
   "source": [
    "my_loss = []\n",
    "for epoch in range(epochs):\n",
    "    X_, Y_ = shuffle(trainX, trainY)\n",
    "    \n",
    "    for i in range(n_batches):\n",
    "        start = i* batch_size\n",
    "        end = start + batch_size\n",
    "    \n",
    "    sess.run(train, feed_dict={\n",
    "        X: X_[start:end], \n",
    "        Y: Y_[start:end]\n",
    "    })\n",
    "    \n",
    "    val_loss = loss.eval(session=sess, feed_dict={\n",
    "        X: testX, \n",
    "        Y: testY\n",
    "    })\n",
    "    my_loss.append(val_loss)\n",
    "    \n",
    "    if epoch%50==0 :\n",
    "        print(\"epoch:\", epoch, \"validation loss:\", val_loss)\n",
    "print(\"epoch:\", epoch, \"validation loss:\", my_loss[-1])"
   ]
  },
  {
   "cell_type": "code",
   "execution_count": 30,
   "metadata": {},
   "outputs": [
    {
     "data": {
      "text/plain": [
       "[<matplotlib.lines.Line2D at 0x2275f27b978>]"
      ]
     },
     "execution_count": 30,
     "metadata": {},
     "output_type": "execute_result"
    },
    {
     "data": {
      "image/png": "[encoded data removed]",
      "text/plain": [
       "<Figure size 432x288 with 1 Axes>"
      ]
     },
     "metadata": {
      "needs_background": "light"
     },
     "output_type": "display_data"
    }
   ],
   "source": [
    "plt.plot(my_loss)"
   ]
  },
  {
   "cell_type": "code",
   "execution_count": 31,
   "metadata": {},
   "outputs": [],
   "source": [
    "original = [f[i] for i in range(maxlen)]\n",
    "predicted = [None for i in range(maxlen)]"
   ]
  },
  {
   "cell_type": "code",
   "execution_count": 32,
   "metadata": {},
   "outputs": [],
   "source": [
    "for i in range(0,train_predict.shape[0]) :\n",
    "    predicted.append(train_predict[i])\n",
    "for i in range(0,test_predict.shape[0]) :\n",
    "    predicted.append(test_predict[i])"
   ]
  },
  {
   "cell_type": "code",
   "execution_count": 33,
   "metadata": {},
   "outputs": [
    {
     "data": {
      "text/plain": [
       "[<matplotlib.lines.Line2D at 0x22761257860>]"
      ]
     },
     "execution_count": 33,
     "metadata": {},
     "output_type": "execute_result"
    },
    {
     "data": {
      "image/png": "[encoded data removed]",
      "text/plain": [
       "<Figure size 432x288 with 1 Axes>"
      ]
     },
     "metadata": {
      "needs_background": "light"
     },
     "output_type": "display_data"
    }
   ],
   "source": [
    "plt.plot(toy_problem(T=100, ampl=0),'r', linestyle=\"dotted\")\n",
    "plt.plot(predicted, 'b')"
   ]
  },
  {
   "cell_type": "code",
   "execution_count": null,
   "metadata": {},
   "outputs": [],
   "source": []
  }
 ],
 "metadata": {
  "kernelspec": {
   "display_name": "Python 3",
   "language": "python",
   "name": "python3"
  },
  "language_info": {
   "codemirror_mode": {
    "name": "ipython",
    "version": 3
   },
   "file_extension": ".py",
   "mimetype": "text/x-python",
   "name": "python",
   "nbconvert_exporter": "python",
   "pygments_lexer": "ipython3",
   "version": "3.6.5"
  }
 },
 "nbformat": 4,
 "nbformat_minor": 2
}
