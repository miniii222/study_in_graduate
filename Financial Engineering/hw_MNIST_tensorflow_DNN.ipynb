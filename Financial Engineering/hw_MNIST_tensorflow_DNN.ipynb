{
 "cells": [
  {
   "cell_type": "code",
   "execution_count": 1,
   "metadata": {},
   "outputs": [
    {
     "name": "stderr",
     "output_type": "stream",
     "text": [
      "C:\\Users\\wjssm\\Anaconda3\\lib\\site-packages\\h5py\\__init__.py:36: FutureWarning: Conversion of the second argument of issubdtype from `float` to `np.floating` is deprecated. In future, it will be treated as `np.float64 == np.dtype(float).type`.\n",
      "  from ._conv import register_converters as _register_converters\n"
     ]
    }
   ],
   "source": [
    "import matplotlib.pyplot as plt\n",
    "import numpy as np\n",
    "import tensorflow as tf\n",
    "import time\n",
    "from sklearn.utils import shuffle\n",
    "from tensorflow.examples.tutorials.mnist import input_data"
   ]
  },
  {
   "cell_type": "code",
   "execution_count": 3,
   "metadata": {},
   "outputs": [
    {
     "name": "stdout",
     "output_type": "stream",
     "text": [
      "Extracting ./MNIST_data\\train-images-idx3-ubyte.gz\n",
      "Extracting ./MNIST_data\\train-labels-idx1-ubyte.gz\n",
      "Extracting ./MNIST_data\\t10k-images-idx3-ubyte.gz\n",
      "Extracting ./MNIST_data\\t10k-labels-idx1-ubyte.gz\n"
     ]
    }
   ],
   "source": [
    "mnist = input_data.read_data_sets(\"./MNIST_data\", one_hot=True)"
   ]
  },
  {
   "cell_type": "code",
   "execution_count": 4,
   "metadata": {},
   "outputs": [
    {
     "data": {
      "text/plain": [
       "array([0.        , 0.        , 0.        , 0.        , 0.        ,\n",
       "       0.        , 0.        , 0.        , 0.        , 0.        ,\n",
       "       0.        , 0.        , 0.        , 0.        , 0.        ,\n",
       "       0.        , 0.        , 0.        , 0.        , 0.        ,\n",
       "       0.        , 0.        , 0.        , 0.        , 0.        ,\n",
       "       0.        , 0.        , 0.        , 0.        , 0.        ,\n",
       "       0.        , 0.        , 0.        , 0.        , 0.        ,\n",
       "       0.        , 0.        , 0.        , 0.        , 0.        ,\n",
       "       0.        , 0.        , 0.        , 0.        , 0.        ,\n",
       "       0.        , 0.        , 0.        , 0.        , 0.        ,\n",
       "       0.        , 0.        , 0.        , 0.        , 0.        ,\n",
       "       0.        , 0.        , 0.        , 0.        , 0.        ,\n",
       "       0.        , 0.        , 0.        , 0.        , 0.        ,\n",
       "       0.        , 0.        , 0.        , 0.        , 0.        ,\n",
       "       0.        , 0.        , 0.        , 0.        , 0.        ,\n",
       "       0.        , 0.        , 0.        , 0.        , 0.        ,\n",
       "       0.        , 0.        , 0.        , 0.        , 0.        ,\n",
       "       0.        , 0.        , 0.        , 0.        , 0.        ,\n",
       "       0.        , 0.        , 0.        , 0.        , 0.        ,\n",
       "       0.        , 0.        , 0.        , 0.        , 0.        ,\n",
       "       0.        , 0.        , 0.        , 0.        , 0.        ,\n",
       "       0.        , 0.        , 0.        , 0.        , 0.        ,\n",
       "       0.        , 0.        , 0.        , 0.        , 0.        ,\n",
       "       0.        , 0.        , 0.        , 0.        , 0.        ,\n",
       "       0.        , 0.        , 0.        , 0.        , 0.        ,\n",
       "       0.        , 0.        , 0.        , 0.        , 0.        ,\n",
       "       0.        , 0.        , 0.        , 0.        , 0.        ,\n",
       "       0.        , 0.        , 0.        , 0.        , 0.        ,\n",
       "       0.        , 0.        , 0.        , 0.        , 0.        ,\n",
       "       0.        , 0.        , 0.        , 0.        , 0.        ,\n",
       "       0.        , 0.        , 0.        , 0.        , 0.        ,\n",
       "       0.        , 0.        , 0.        , 0.        , 0.        ,\n",
       "       0.        , 0.        , 0.        , 0.        , 0.        ,\n",
       "       0.        , 0.        , 0.        , 0.        , 0.        ,\n",
       "       0.        , 0.        , 0.        , 0.        , 0.        ,\n",
       "       0.        , 0.        , 0.        , 0.        , 0.        ,\n",
       "       0.        , 0.        , 0.        , 0.        , 0.        ,\n",
       "       0.        , 0.        , 0.        , 0.        , 0.        ,\n",
       "       0.        , 0.        , 0.        , 0.        , 0.        ,\n",
       "       0.        , 0.        , 0.        , 0.        , 0.        ,\n",
       "       0.        , 0.        , 0.        , 0.        , 0.        ,\n",
       "       0.        , 0.        , 0.3803922 , 0.37647063, 0.3019608 ,\n",
       "       0.46274513, 0.2392157 , 0.        , 0.        , 0.        ,\n",
       "       0.        , 0.        , 0.        , 0.        , 0.        ,\n",
       "       0.        , 0.        , 0.        , 0.        , 0.        ,\n",
       "       0.        , 0.        , 0.3529412 , 0.5411765 , 0.9215687 ,\n",
       "       0.9215687 , 0.9215687 , 0.9215687 , 0.9215687 , 0.9215687 ,\n",
       "       0.9843138 , 0.9843138 , 0.9725491 , 0.9960785 , 0.9607844 ,\n",
       "       0.9215687 , 0.74509805, 0.08235294, 0.        , 0.        ,\n",
       "       0.        , 0.        , 0.        , 0.        , 0.        ,\n",
       "       0.        , 0.        , 0.        , 0.        , 0.54901963,\n",
       "       0.9843138 , 0.9960785 , 0.9960785 , 0.9960785 , 0.9960785 ,\n",
       "       0.9960785 , 0.9960785 , 0.9960785 , 0.9960785 , 0.9960785 ,\n",
       "       0.9960785 , 0.9960785 , 0.9960785 , 0.9960785 , 0.9960785 ,\n",
       "       0.7411765 , 0.09019608, 0.        , 0.        , 0.        ,\n",
       "       0.        , 0.        , 0.        , 0.        , 0.        ,\n",
       "       0.        , 0.        , 0.8862746 , 0.9960785 , 0.81568635,\n",
       "       0.7803922 , 0.7803922 , 0.7803922 , 0.7803922 , 0.54509807,\n",
       "       0.2392157 , 0.2392157 , 0.2392157 , 0.2392157 , 0.2392157 ,\n",
       "       0.5019608 , 0.8705883 , 0.9960785 , 0.9960785 , 0.7411765 ,\n",
       "       0.08235294, 0.        , 0.        , 0.        , 0.        ,\n",
       "       0.        , 0.        , 0.        , 0.        , 0.        ,\n",
       "       0.14901961, 0.32156864, 0.0509804 , 0.        , 0.        ,\n",
       "       0.        , 0.        , 0.        , 0.        , 0.        ,\n",
       "       0.        , 0.        , 0.        , 0.        , 0.13333334,\n",
       "       0.8352942 , 0.9960785 , 0.9960785 , 0.45098042, 0.        ,\n",
       "       0.        , 0.        , 0.        , 0.        , 0.        ,\n",
       "       0.        , 0.        , 0.        , 0.        , 0.        ,\n",
       "       0.        , 0.        , 0.        , 0.        , 0.        ,\n",
       "       0.        , 0.        , 0.        , 0.        , 0.        ,\n",
       "       0.        , 0.        , 0.        , 0.32941177, 0.9960785 ,\n",
       "       0.9960785 , 0.9176471 , 0.        , 0.        , 0.        ,\n",
       "       0.        , 0.        , 0.        , 0.        , 0.        ,\n",
       "       0.        , 0.        , 0.        , 0.        , 0.        ,\n",
       "       0.        , 0.        , 0.        , 0.        , 0.        ,\n",
       "       0.        , 0.        , 0.        , 0.        , 0.        ,\n",
       "       0.        , 0.32941177, 0.9960785 , 0.9960785 , 0.9176471 ,\n",
       "       0.        , 0.        , 0.        , 0.        , 0.        ,\n",
       "       0.        , 0.        , 0.        , 0.        , 0.        ,\n",
       "       0.        , 0.        , 0.        , 0.        , 0.        ,\n",
       "       0.        , 0.        , 0.        , 0.        , 0.        ,\n",
       "       0.        , 0.        , 0.        , 0.4156863 , 0.6156863 ,\n",
       "       0.9960785 , 0.9960785 , 0.95294124, 0.20000002, 0.        ,\n",
       "       0.        , 0.        , 0.        , 0.        , 0.        ,\n",
       "       0.        , 0.        , 0.        , 0.        , 0.        ,\n",
       "       0.        , 0.        , 0.        , 0.        , 0.        ,\n",
       "       0.        , 0.09803922, 0.45882356, 0.8941177 , 0.8941177 ,\n",
       "       0.8941177 , 0.9921569 , 0.9960785 , 0.9960785 , 0.9960785 ,\n",
       "       0.9960785 , 0.94117653, 0.        , 0.        , 0.        ,\n",
       "       0.        , 0.        , 0.        , 0.        , 0.        ,\n",
       "       0.        , 0.        , 0.        , 0.        , 0.        ,\n",
       "       0.        , 0.        , 0.26666668, 0.4666667 , 0.86274517,\n",
       "       0.9960785 , 0.9960785 , 0.9960785 , 0.9960785 , 0.9960785 ,\n",
       "       0.9960785 , 0.9960785 , 0.9960785 , 0.9960785 , 0.5568628 ,\n",
       "       0.        , 0.        , 0.        , 0.        , 0.        ,\n",
       "       0.        , 0.        , 0.        , 0.        , 0.        ,\n",
       "       0.        , 0.        , 0.        , 0.14509805, 0.73333335,\n",
       "       0.9921569 , 0.9960785 , 0.9960785 , 0.9960785 , 0.8745099 ,\n",
       "       0.8078432 , 0.8078432 , 0.29411766, 0.26666668, 0.8431373 ,\n",
       "       0.9960785 , 0.9960785 , 0.45882356, 0.        , 0.        ,\n",
       "       0.        , 0.        , 0.        , 0.        , 0.        ,\n",
       "       0.        , 0.        , 0.        , 0.        , 0.        ,\n",
       "       0.4431373 , 0.8588236 , 0.9960785 , 0.9490197 , 0.89019614,\n",
       "       0.45098042, 0.34901962, 0.12156864, 0.        , 0.        ,\n",
       "       0.        , 0.        , 0.7843138 , 0.9960785 , 0.9450981 ,\n",
       "       0.16078432, 0.        , 0.        , 0.        , 0.        ,\n",
       "       0.        , 0.        , 0.        , 0.        , 0.        ,\n",
       "       0.        , 0.        , 0.        , 0.6627451 , 0.9960785 ,\n",
       "       0.6901961 , 0.24313727, 0.        , 0.        , 0.        ,\n",
       "       0.        , 0.        , 0.        , 0.        , 0.18823531,\n",
       "       0.9058824 , 0.9960785 , 0.9176471 , 0.        , 0.        ,\n",
       "       0.        , 0.        , 0.        , 0.        , 0.        ,\n",
       "       0.        , 0.        , 0.        , 0.        , 0.        ,\n",
       "       0.        , 0.07058824, 0.48627454, 0.        , 0.        ,\n",
       "       0.        , 0.        , 0.        , 0.        , 0.        ,\n",
       "       0.        , 0.        , 0.32941177, 0.9960785 , 0.9960785 ,\n",
       "       0.6509804 , 0.        , 0.        , 0.        , 0.        ,\n",
       "       0.        , 0.        , 0.        , 0.        , 0.        ,\n",
       "       0.        , 0.        , 0.        , 0.        , 0.        ,\n",
       "       0.        , 0.        , 0.        , 0.        , 0.        ,\n",
       "       0.        , 0.        , 0.        , 0.        , 0.        ,\n",
       "       0.54509807, 0.9960785 , 0.9333334 , 0.22352943, 0.        ,\n",
       "       0.        , 0.        , 0.        , 0.        , 0.        ,\n",
       "       0.        , 0.        , 0.        , 0.        , 0.        ,\n",
       "       0.        , 0.        , 0.        , 0.        , 0.        ,\n",
       "       0.        , 0.        , 0.        , 0.        , 0.        ,\n",
       "       0.        , 0.        , 0.8235295 , 0.9803922 , 0.9960785 ,\n",
       "       0.65882355, 0.        , 0.        , 0.        , 0.        ,\n",
       "       0.        , 0.        , 0.        , 0.        , 0.        ,\n",
       "       0.        , 0.        , 0.        , 0.        , 0.        ,\n",
       "       0.        , 0.        , 0.        , 0.        , 0.        ,\n",
       "       0.        , 0.        , 0.        , 0.        , 0.        ,\n",
       "       0.9490197 , 0.9960785 , 0.93725497, 0.22352943, 0.        ,\n",
       "       0.        , 0.        , 0.        , 0.        , 0.        ,\n",
       "       0.        , 0.        , 0.        , 0.        , 0.        ,\n",
       "       0.        , 0.        , 0.        , 0.        , 0.        ,\n",
       "       0.        , 0.        , 0.        , 0.        , 0.        ,\n",
       "       0.        , 0.        , 0.34901962, 0.9843138 , 0.9450981 ,\n",
       "       0.3372549 , 0.        , 0.        , 0.        , 0.        ,\n",
       "       0.        , 0.        , 0.        , 0.        , 0.        ,\n",
       "       0.        , 0.        , 0.        , 0.        , 0.        ,\n",
       "       0.        , 0.        , 0.        , 0.        , 0.        ,\n",
       "       0.        , 0.        , 0.        , 0.        , 0.01960784,\n",
       "       0.8078432 , 0.96470594, 0.6156863 , 0.        , 0.        ,\n",
       "       0.        , 0.        , 0.        , 0.        , 0.        ,\n",
       "       0.        , 0.        , 0.        , 0.        , 0.        ,\n",
       "       0.        , 0.        , 0.        , 0.        , 0.        ,\n",
       "       0.        , 0.        , 0.        , 0.        , 0.        ,\n",
       "       0.        , 0.        , 0.01568628, 0.45882356, 0.27058825,\n",
       "       0.        , 0.        , 0.        , 0.        , 0.        ,\n",
       "       0.        , 0.        , 0.        , 0.        , 0.        ,\n",
       "       0.        , 0.        , 0.        , 0.        , 0.        ,\n",
       "       0.        , 0.        , 0.        , 0.        , 0.        ,\n",
       "       0.        , 0.        , 0.        , 0.        , 0.        ,\n",
       "       0.        , 0.        , 0.        , 0.        , 0.        ,\n",
       "       0.        , 0.        , 0.        , 0.        , 0.        ,\n",
       "       0.        , 0.        , 0.        , 0.        ], dtype=float32)"
      ]
     },
     "execution_count": 4,
     "metadata": {},
     "output_type": "execute_result"
    }
   ],
   "source": [
    "mnist.train.images[0]"
   ]
  },
  {
   "cell_type": "code",
   "execution_count": 5,
   "metadata": {},
   "outputs": [
    {
     "data": {
      "text/plain": [
       "(784,)"
      ]
     },
     "execution_count": 5,
     "metadata": {},
     "output_type": "execute_result"
    }
   ],
   "source": [
    "mnist.train.images[0].shape"
   ]
  },
  {
   "cell_type": "code",
   "execution_count": 6,
   "metadata": {},
   "outputs": [
    {
     "data": {
      "text/plain": [
       "array([0., 0., 0., 0., 0., 0., 0., 1., 0., 0.])"
      ]
     },
     "execution_count": 6,
     "metadata": {},
     "output_type": "execute_result"
    }
   ],
   "source": [
    "mnist.train.labels[0]"
   ]
  },
  {
   "cell_type": "code",
   "execution_count": 7,
   "metadata": {
    "scrolled": true
   },
   "outputs": [
    {
     "data": {
      "text/plain": [
       "(55000, 784)"
      ]
     },
     "execution_count": 7,
     "metadata": {},
     "output_type": "execute_result"
    }
   ],
   "source": [
    "mnist.train.images.shape"
   ]
  },
  {
   "cell_type": "code",
   "execution_count": 8,
   "metadata": {},
   "outputs": [
    {
     "data": {
      "text/plain": [
       "(55000, 10)"
      ]
     },
     "execution_count": 8,
     "metadata": {},
     "output_type": "execute_result"
    }
   ],
   "source": [
    "mnist.train.labels.shape"
   ]
  },
  {
   "cell_type": "code",
   "execution_count": 9,
   "metadata": {},
   "outputs": [
    {
     "data": {
      "text/plain": [
       "(10000, 784)"
      ]
     },
     "execution_count": 9,
     "metadata": {},
     "output_type": "execute_result"
    }
   ],
   "source": [
    "mnist.test.images.shape"
   ]
  },
  {
   "cell_type": "code",
   "execution_count": 10,
   "metadata": {},
   "outputs": [
    {
     "data": {
      "text/plain": [
       "(10000, 10)"
      ]
     },
     "execution_count": 10,
     "metadata": {},
     "output_type": "execute_result"
    }
   ],
   "source": [
    "mnist.test.labels.shape"
   ]
  },
  {
   "cell_type": "code",
   "execution_count": 11,
   "metadata": {},
   "outputs": [],
   "source": [
    "X_train = mnist.train.images\n",
    "X_test = mnist.test.images\n",
    "y_train = mnist.train.labels\n",
    "y_test = mnist.test.labels"
   ]
  },
  {
   "cell_type": "code",
   "execution_count": 12,
   "metadata": {},
   "outputs": [
    {
     "name": "stdout",
     "output_type": "stream",
     "text": [
      "(55000, 784) (10000, 784) (55000, 10) (10000, 10)\n"
     ]
    }
   ],
   "source": [
    "print(X_train.shape, X_test.shape , y_train.shape, y_test.shape)"
   ]
  },
  {
   "cell_type": "markdown",
   "metadata": {},
   "source": [
    "### Deep Neural Network"
   ]
  },
  {
   "cell_type": "code",
   "execution_count": 13,
   "metadata": {},
   "outputs": [],
   "source": [
    "num_hidden = 128\n",
    "x = tf.placeholder(tf.float32, shape = [None, 784])\n",
    "t = tf.placeholder(tf.float32, shape = [None, 10])"
   ]
  },
  {
   "cell_type": "code",
   "execution_count": 14,
   "metadata": {},
   "outputs": [],
   "source": [
    "W1 = tf.Variable(initial_value=tf.random_normal((784, num_hidden), mean = 0, stddev = 1.0))\n",
    "b1 = tf.Variable(tf.zeros(num_hidden))\n",
    "z1 = tf.matmul(x, W1) + b1\n",
    "a1 = tf.nn.sigmoid(z1)"
   ]
  },
  {
   "cell_type": "code",
   "execution_count": 15,
   "metadata": {},
   "outputs": [],
   "source": [
    "W2 = tf.Variable(initial_value = tf.random_normal((num_hidden,10), mean = 0, stddev=1.0))\n",
    "b2 = tf.Variable(tf.zeros(10))\n",
    "z2 = tf.matmul(a1, W2) + b2\n",
    "a2 = tf.nn.softmax(z2)"
   ]
  },
  {
   "cell_type": "code",
   "execution_count": 16,
   "metadata": {},
   "outputs": [],
   "source": [
    "cross_entropy = tf.reduce_mean(-tf.reduce_sum(t * tf.log(a2), reduction_indices=[1]))\n",
    "train_step = tf.train.GradientDescentOptimizer(0.5).minimize(cross_entropy)"
   ]
  },
  {
   "cell_type": "code",
   "execution_count": 17,
   "metadata": {},
   "outputs": [],
   "source": [
    "init = tf.global_variables_initializer()"
   ]
  },
  {
   "cell_type": "code",
   "execution_count": 18,
   "metadata": {},
   "outputs": [],
   "source": [
    "sess=tf.Session()\n",
    "sess.run(init)"
   ]
  },
  {
   "cell_type": "code",
   "execution_count": 19,
   "metadata": {},
   "outputs": [],
   "source": [
    "from sklearn.utils import shuffle"
   ]
  },
  {
   "cell_type": "code",
   "execution_count": 20,
   "metadata": {},
   "outputs": [
    {
     "data": {
      "text/plain": [
       "550"
      ]
     },
     "execution_count": 20,
     "metadata": {},
     "output_type": "execute_result"
    }
   ],
   "source": [
    "N = X_train.shape[0]\n",
    "batch_size = 100\n",
    "n_batches = N // batch_size\n",
    "n_batches"
   ]
  },
  {
   "cell_type": "markdown",
   "metadata": {},
   "source": [
    "### training"
   ]
  },
  {
   "cell_type": "code",
   "execution_count": 21,
   "metadata": {},
   "outputs": [],
   "source": [
    "#mini_batch\n",
    "for epoch in range(100) :\n",
    "    X_ , Y_  = shuffle(X_train, y_train)\n",
    "    \n",
    "    for i in range(n_batches) :\n",
    "        start = i*batch_size\n",
    "        end = start + batch_size\n",
    "        \n",
    "        sess.run(train_step, feed_dict = {x : X_[start:end, : ], t: Y_[start:end, :]})"
   ]
  },
  {
   "cell_type": "markdown",
   "metadata": {},
   "source": [
    "### test"
   ]
  },
  {
   "cell_type": "code",
   "execution_count": 26,
   "metadata": {},
   "outputs": [],
   "source": [
    "correct_prediction = tf.equal(tf.argmax(a2,1), tf.argmax(t,1))"
   ]
  },
  {
   "cell_type": "code",
   "execution_count": 27,
   "metadata": {},
   "outputs": [
    {
     "name": "stdout",
     "output_type": "stream",
     "text": [
      "0.9564\n"
     ]
    }
   ],
   "source": [
    "accuracy = tf.reduce_mean(tf.cast(correct_prediction, tf.float32)) #숫자로 바꿔서 평균내\n",
    "print(sess.run(accuracy, feed_dict={x: X_test, t: y_test}))"
   ]
  },
  {
   "cell_type": "markdown",
   "metadata": {},
   "source": [
    "### plot"
   ]
  },
  {
   "cell_type": "code",
   "execution_count": 28,
   "metadata": {},
   "outputs": [
    {
     "data": {
      "text/plain": [
       "array([[   8],\n",
       "       [  38],\n",
       "       [  62],\n",
       "       [ 124],\n",
       "       [ 144],\n",
       "       [ 149],\n",
       "       [ 193],\n",
       "       [ 195],\n",
       "       [ 245],\n",
       "       [ 247],\n",
       "       [ 259],\n",
       "       [ 320],\n",
       "       [ 321],\n",
       "       [ 324],\n",
       "       [ 340],\n",
       "       [ 349],\n",
       "       [ 380],\n",
       "       [ 381],\n",
       "       [ 403],\n",
       "       [ 445],\n",
       "       [ 449],\n",
       "       [ 464],\n",
       "       [ 495],\n",
       "       [ 516],\n",
       "       [ 542],\n",
       "       [ 551],\n",
       "       [ 582],\n",
       "       [ 591],\n",
       "       [ 619],\n",
       "       [ 658],\n",
       "       [ 659],\n",
       "       [ 684],\n",
       "       [ 691],\n",
       "       [ 716],\n",
       "       [ 717],\n",
       "       [ 720],\n",
       "       [ 741],\n",
       "       [ 791],\n",
       "       [ 810],\n",
       "       [ 866],\n",
       "       [ 877],\n",
       "       [ 896],\n",
       "       [ 900],\n",
       "       [ 938],\n",
       "       [ 956],\n",
       "       [ 959],\n",
       "       [ 965],\n",
       "       [ 982],\n",
       "       [ 992],\n",
       "       [1003],\n",
       "       [1014],\n",
       "       [1032],\n",
       "       [1039],\n",
       "       [1044],\n",
       "       [1051],\n",
       "       [1092],\n",
       "       [1112],\n",
       "       [1114],\n",
       "       [1128],\n",
       "       [1178],\n",
       "       [1181],\n",
       "       [1192],\n",
       "       [1194],\n",
       "       [1202],\n",
       "       [1226],\n",
       "       [1232],\n",
       "       [1239],\n",
       "       [1242],\n",
       "       [1247],\n",
       "       [1251],\n",
       "       [1260],\n",
       "       [1272],\n",
       "       [1289],\n",
       "       [1299],\n",
       "       [1319],\n",
       "       [1328],\n",
       "       [1393],\n",
       "       [1394],\n",
       "       [1395],\n",
       "       [1414],\n",
       "       [1422],\n",
       "       [1433],\n",
       "       [1438],\n",
       "       [1444],\n",
       "       [1464],\n",
       "       [1466],\n",
       "       [1468],\n",
       "       [1494],\n",
       "       [1500],\n",
       "       [1522],\n",
       "       [1525],\n",
       "       [1527],\n",
       "       [1530],\n",
       "       [1549],\n",
       "       [1551],\n",
       "       [1553],\n",
       "       [1569],\n",
       "       [1609],\n",
       "       [1678],\n",
       "       [1737],\n",
       "       [1759],\n",
       "       [1790],\n",
       "       [1819],\n",
       "       [1823],\n",
       "       [1843],\n",
       "       [1850],\n",
       "       [1878],\n",
       "       [1880],\n",
       "       [1901],\n",
       "       [1911],\n",
       "       [1940],\n",
       "       [1970],\n",
       "       [1973],\n",
       "       [1982],\n",
       "       [1984],\n",
       "       [2004],\n",
       "       [2016],\n",
       "       [2018],\n",
       "       [2024],\n",
       "       [2035],\n",
       "       [2040],\n",
       "       [2043],\n",
       "       [2044],\n",
       "       [2052],\n",
       "       [2053],\n",
       "       [2063],\n",
       "       [2093],\n",
       "       [2098],\n",
       "       [2109],\n",
       "       [2118],\n",
       "       [2130],\n",
       "       [2135],\n",
       "       [2174],\n",
       "       [2182],\n",
       "       [2185],\n",
       "       [2186],\n",
       "       [2189],\n",
       "       [2224],\n",
       "       [2266],\n",
       "       [2291],\n",
       "       [2293],\n",
       "       [2298],\n",
       "       [2299],\n",
       "       [2369],\n",
       "       [2387],\n",
       "       [2406],\n",
       "       [2422],\n",
       "       [2425],\n",
       "       [2426],\n",
       "       [2464],\n",
       "       [2488],\n",
       "       [2512],\n",
       "       [2514],\n",
       "       [2526],\n",
       "       [2545],\n",
       "       [2560],\n",
       "       [2607],\n",
       "       [2610],\n",
       "       [2631],\n",
       "       [2637],\n",
       "       [2648],\n",
       "       [2654],\n",
       "       [2670],\n",
       "       [2698],\n",
       "       [2720],\n",
       "       [2724],\n",
       "       [2754],\n",
       "       [2780],\n",
       "       [2810],\n",
       "       [2854],\n",
       "       [2863],\n",
       "       [2877],\n",
       "       [2896],\n",
       "       [2916],\n",
       "       [2927],\n",
       "       [2953],\n",
       "       [2995],\n",
       "       [3030],\n",
       "       [3062],\n",
       "       [3073],\n",
       "       [3108],\n",
       "       [3117],\n",
       "       [3130],\n",
       "       [3157],\n",
       "       [3167],\n",
       "       [3171],\n",
       "       [3206],\n",
       "       [3225],\n",
       "       [3240],\n",
       "       [3246],\n",
       "       [3269],\n",
       "       [3275],\n",
       "       [3305],\n",
       "       [3330],\n",
       "       [3342],\n",
       "       [3369],\n",
       "       [3376],\n",
       "       [3384],\n",
       "       [3394],\n",
       "       [3422],\n",
       "       [3475],\n",
       "       [3503],\n",
       "       [3506],\n",
       "       [3520],\n",
       "       [3549],\n",
       "       [3558],\n",
       "       [3559],\n",
       "       [3597],\n",
       "       [3604],\n",
       "       [3626],\n",
       "       [3629],\n",
       "       [3662],\n",
       "       [3688],\n",
       "       [3757],\n",
       "       [3767],\n",
       "       [3780],\n",
       "       [3796],\n",
       "       [3806],\n",
       "       [3808],\n",
       "       [3811],\n",
       "       [3831],\n",
       "       [3836],\n",
       "       [3853],\n",
       "       [3869],\n",
       "       [3893],\n",
       "       [3902],\n",
       "       [3906],\n",
       "       [3926],\n",
       "       [3941],\n",
       "       [3985],\n",
       "       [3998],\n",
       "       [4007],\n",
       "       [4018],\n",
       "       [4048],\n",
       "       [4065],\n",
       "       [4075],\n",
       "       [4078],\n",
       "       [4093],\n",
       "       [4152],\n",
       "       [4154],\n",
       "       [4159],\n",
       "       [4163],\n",
       "       [4176],\n",
       "       [4199],\n",
       "       [4201],\n",
       "       [4211],\n",
       "       [4224],\n",
       "       [4238],\n",
       "       [4248],\n",
       "       [4265],\n",
       "       [4289],\n",
       "       [4297],\n",
       "       [4306],\n",
       "       [4344],\n",
       "       [4355],\n",
       "       [4368],\n",
       "       [4369],\n",
       "       [4380],\n",
       "       [4405],\n",
       "       [4419],\n",
       "       [4433],\n",
       "       [4444],\n",
       "       [4497],\n",
       "       [4508],\n",
       "       [4548],\n",
       "       [4567],\n",
       "       [4571],\n",
       "       [4575],\n",
       "       [4608],\n",
       "       [4615],\n",
       "       [4639],\n",
       "       [4671],\n",
       "       [4699],\n",
       "       [4731],\n",
       "       [4761],\n",
       "       [4783],\n",
       "       [4807],\n",
       "       [4814],\n",
       "       [4823],\n",
       "       [4842],\n",
       "       [4874],\n",
       "       [4880],\n",
       "       [4890],\n",
       "       [4910],\n",
       "       [4952],\n",
       "       [4966],\n",
       "       [4978],\n",
       "       [4990],\n",
       "       [5067],\n",
       "       [5138],\n",
       "       [5140],\n",
       "       [5176],\n",
       "       [5183],\n",
       "       [5209],\n",
       "       [5237],\n",
       "       [5265],\n",
       "       [5331],\n",
       "       [5547],\n",
       "       [5623],\n",
       "       [5634],\n",
       "       [5642],\n",
       "       [5655],\n",
       "       [5676],\n",
       "       [5678],\n",
       "       [5734],\n",
       "       [5749],\n",
       "       [5771],\n",
       "       [5842],\n",
       "       [5877],\n",
       "       [5887],\n",
       "       [5888],\n",
       "       [5913],\n",
       "       [5936],\n",
       "       [5937],\n",
       "       [5955],\n",
       "       [5972],\n",
       "       [5973],\n",
       "       [5992],\n",
       "       [5997],\n",
       "       [6024],\n",
       "       [6035],\n",
       "       [6045],\n",
       "       [6046],\n",
       "       [6059],\n",
       "       [6071],\n",
       "       [6091],\n",
       "       [6160],\n",
       "       [6166],\n",
       "       [6168],\n",
       "       [6172],\n",
       "       [6173],\n",
       "       [6174],\n",
       "       [6347],\n",
       "       [6390],\n",
       "       [6391],\n",
       "       [6421],\n",
       "       [6425],\n",
       "       [6453],\n",
       "       [6505],\n",
       "       [6511],\n",
       "       [6517],\n",
       "       [6523],\n",
       "       [6538],\n",
       "       [6558],\n",
       "       [6568],\n",
       "       [6571],\n",
       "       [6572],\n",
       "       [6576],\n",
       "       [6597],\n",
       "       [6598],\n",
       "       [6603],\n",
       "       [6614],\n",
       "       [6625],\n",
       "       [6636],\n",
       "       [6651],\n",
       "       [6658],\n",
       "       [6691],\n",
       "       [6692],\n",
       "       [6755],\n",
       "       [6769],\n",
       "       [6783],\n",
       "       [6926],\n",
       "       [7094],\n",
       "       [7198],\n",
       "       [7249],\n",
       "       [7256],\n",
       "       [7432],\n",
       "       [7434],\n",
       "       [7451],\n",
       "       [7459],\n",
       "       [7498],\n",
       "       [7545],\n",
       "       [7602],\n",
       "       [7783],\n",
       "       [7797],\n",
       "       [7800],\n",
       "       [7821],\n",
       "       [7886],\n",
       "       [7945],\n",
       "       [7990],\n",
       "       [8020],\n",
       "       [8062],\n",
       "       [8094],\n",
       "       [8160],\n",
       "       [8196],\n",
       "       [8245],\n",
       "       [8255],\n",
       "       [8270],\n",
       "       [8294],\n",
       "       [8325],\n",
       "       [8339],\n",
       "       [8353],\n",
       "       [8379],\n",
       "       [8410],\n",
       "       [8416],\n",
       "       [8453],\n",
       "       [8456],\n",
       "       [8502],\n",
       "       [8863],\n",
       "       [9009],\n",
       "       [9015],\n",
       "       [9022],\n",
       "       [9023],\n",
       "       [9024],\n",
       "       [9045],\n",
       "       [9046],\n",
       "       [9071],\n",
       "       [9182],\n",
       "       [9280],\n",
       "       [9425],\n",
       "       [9587],\n",
       "       [9634],\n",
       "       [9669],\n",
       "       [9679],\n",
       "       [9719],\n",
       "       [9729],\n",
       "       [9745],\n",
       "       [9749],\n",
       "       [9752],\n",
       "       [9768],\n",
       "       [9770],\n",
       "       [9777],\n",
       "       [9779],\n",
       "       [9792],\n",
       "       [9811],\n",
       "       [9839],\n",
       "       [9840],\n",
       "       [9858],\n",
       "       [9888],\n",
       "       [9892],\n",
       "       [9910],\n",
       "       [9925],\n",
       "       [9937],\n",
       "       [9944],\n",
       "       [9975],\n",
       "       [9982]], dtype=int64)"
      ]
     },
     "execution_count": 28,
     "metadata": {},
     "output_type": "execute_result"
    }
   ],
   "source": [
    "fail_index = tf.where(tf.equal(correct_prediction, False))\n",
    "sess.run(fail_index,feed_dict={x: X_test, t: y_test})"
   ]
  },
  {
   "cell_type": "code",
   "execution_count": 29,
   "metadata": {},
   "outputs": [
    {
     "data": {
      "text/plain": [
       "<matplotlib.image.AxesImage at 0x27d8017e470>"
      ]
     },
     "execution_count": 29,
     "metadata": {},
     "output_type": "execute_result"
    },
    {
     "data": {
      "image/png": "[encoded data removed]",
      "text/plain": [
       "<Figure size 432x288 with 1 Axes>"
      ]
     },
     "metadata": {},
     "output_type": "display_data"
    }
   ],
   "source": [
    "pp = X_test[8].reshape([28,28])\n",
    "plt.gray()\n",
    "plt.imshow(pp)"
   ]
  },
  {
   "cell_type": "code",
   "execution_count": 30,
   "metadata": {
    "scrolled": true
   },
   "outputs": [
    {
     "data": {
      "text/plain": [
       "5"
      ]
     },
     "execution_count": 30,
     "metadata": {},
     "output_type": "execute_result"
    }
   ],
   "source": [
    "np.argmax(y_test[8])"
   ]
  },
  {
   "cell_type": "code",
   "execution_count": 31,
   "metadata": {},
   "outputs": [
    {
     "data": {
      "text/plain": [
       "6"
      ]
     },
     "execution_count": 31,
     "metadata": {},
     "output_type": "execute_result"
    }
   ],
   "source": [
    "sess.run(tf.argmax(a2,1)[8], feed_dict={x: X_test})"
   ]
  }
 ],
 "metadata": {
  "kernelspec": {
   "display_name": "Python 3",
   "language": "python",
   "name": "python3"
  },
  "language_info": {
   "codemirror_mode": {
    "name": "ipython",
    "version": 3
   },
   "file_extension": ".py",
   "mimetype": "text/x-python",
   "name": "python",
   "nbconvert_exporter": "python",
   "pygments_lexer": "ipython3",
   "version": "3.6.5"
  }
 },
 "nbformat": 4,
 "nbformat_minor": 2
}
