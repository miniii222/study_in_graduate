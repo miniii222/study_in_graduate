{
 "cells": [
  {
   "cell_type": "code",
   "execution_count": 0,
   "metadata": {
    "colab": {},
    "colab_type": "code",
    "id": "boTus5XpkaNU"
   },
   "outputs": [],
   "source": [
    "import matplotlib.pyplot as plt\n",
    "import numpy as np\n",
    "import tensorflow as tf\n",
    "\n",
    "from sklearn.utils import shuffle\n",
    "from tensorflow.examples.tutorials.mnist import input_data"
   ]
  },
  {
   "cell_type": "code",
   "execution_count": 68,
   "metadata": {
    "colab": {
     "base_uri": "https://localhost:8080/",
     "height": 87
    },
    "colab_type": "code",
    "executionInfo": {
     "elapsed": 1013,
     "status": "ok",
     "timestamp": 1542626296585,
     "user": {
      "displayName": "master r",
      "photoUrl": "",
      "userId": "09605291914165955012"
     },
     "user_tz": -540
    },
    "id": "cbiS3qC0kaNY",
    "outputId": "1283d226-5c1c-4c9c-bb11-c6b44cd27e11"
   },
   "outputs": [
    {
     "name": "stdout",
     "output_type": "stream",
     "text": [
      "Extracting C:/Users/wjssm/Desktop/0.graduate/2nd/fiancial engineering/MNIST_data/train-images-idx3-ubyte.gz\n",
      "Extracting C:/Users/wjssm/Desktop/0.graduate/2nd/fiancial engineering/MNIST_data/train-labels-idx1-ubyte.gz\n",
      "Extracting C:/Users/wjssm/Desktop/0.graduate/2nd/fiancial engineering/MNIST_data/t10k-images-idx3-ubyte.gz\n",
      "Extracting C:/Users/wjssm/Desktop/0.graduate/2nd/fiancial engineering/MNIST_data/t10k-labels-idx1-ubyte.gz\n"
     ]
    }
   ],
   "source": [
    "mnist = input_data.read_data_sets(\"C:/Users/wjssm/Desktop/0.graduate/2nd/fiancial engineering/MNIST_data\", one_hot=True)"
   ]
  },
  {
   "cell_type": "code",
   "execution_count": 0,
   "metadata": {
    "colab": {},
    "colab_type": "code",
    "id": "LijYaWAokaNe"
   },
   "outputs": [],
   "source": [
    "train_xdata = np.array([np.reshape(x,(28,28,1)) for x in mnist.train.images])\n",
    "test_xdata = np.array([np.reshape(x,(28,28,1)) for x in mnist.test.images])\n",
    "\n",
    "train_labels = mnist.train.labels\n",
    "test_labels = mnist.test.labels"
   ]
  },
  {
   "cell_type": "code",
   "execution_count": 70,
   "metadata": {
    "colab": {
     "base_uri": "https://localhost:8080/",
     "height": 365
    },
    "colab_type": "code",
    "executionInfo": {
     "elapsed": 538,
     "status": "ok",
     "timestamp": 1542626299747,
     "user": {
      "displayName": "master r",
      "photoUrl": "",
      "userId": "09605291914165955012"
     },
     "user_tz": -540
    },
    "id": "wmZdvdIukaNi",
    "outputId": "05cb7e84-ddc5-4ea9-a8bb-2caae73d459c"
   },
   "outputs": [
    {
     "data": {
      "text/plain": [
       "<matplotlib.image.AxesImage at 0x7fbbfb693240>"
      ]
     },
     "execution_count": 70,
     "metadata": {
      "tags": []
     },
     "output_type": "execute_result"
    },
    {
     "data": {
      "image/png": "[encoded data removed]",
      "text/plain": [
       "<matplotlib.figure.Figure at 0x7fbbfbac3b38>"
      ]
     },
     "metadata": {
      "tags": []
     },
     "output_type": "display_data"
    }
   ],
   "source": [
    "plt.gray()\n",
    "plt.axis('off')\n",
    "plt.imshow(train_xdata[8,:,:].reshape(28,28)) #9번째 그림"
   ]
  },
  {
   "cell_type": "markdown",
   "metadata": {
    "colab_type": "text",
    "id": "j5KKRsMkkaNm"
   },
   "source": [
    "### Set of Conv layer1"
   ]
  },
  {
   "cell_type": "code",
   "execution_count": 0,
   "metadata": {
    "colab": {},
    "colab_type": "code",
    "id": "iQYJ_EmzkaNo"
   },
   "outputs": [],
   "source": [
    "x1 = tf.placeholder(tf.float32, shape = [None, 28,28,1])\n",
    "f1 = tf.Variable(tf.truncated_normal([4,4,1,32], stddev=0.01)) #filter size 4*4 / the number of filters 32\n",
    "conv1 = tf.nn.conv2d(input = x1,filter = f1,strides = [1,1,1,1], padding=\"SAME\")\n",
    "b1 = tf.Variable(tf.zeros([1,1,1,32]))\n",
    "\n",
    "a1 = tf.nn.relu(conv1+b1) #relu\n",
    "\n",
    "#pooling\n",
    "x2 = tf.nn.max_pool(a1, ksize = [1,2,2,1], strides = [1,2,2,1], padding = 'SAME')"
   ]
  },
  {
   "cell_type": "code",
   "execution_count": 72,
   "metadata": {
    "colab": {
     "base_uri": "https://localhost:8080/",
     "height": 34
    },
    "colab_type": "code",
    "executionInfo": {
     "elapsed": 362,
     "status": "ok",
     "timestamp": 1542626302923,
     "user": {
      "displayName": "master r",
      "photoUrl": "",
      "userId": "09605291914165955012"
     },
     "user_tz": -540
    },
    "id": "3DXYL3XMkaNr",
    "outputId": "14213b00-ed4b-4d29-abca-f91f4427fa67"
   },
   "outputs": [
    {
     "data": {
      "text/plain": [
       "TensorShape([Dimension(None), Dimension(14), Dimension(14), Dimension(32)])"
      ]
     },
     "execution_count": 72,
     "metadata": {
      "tags": []
     },
     "output_type": "execute_result"
    }
   ],
   "source": [
    "x2.shape"
   ]
  },
  {
   "cell_type": "markdown",
   "metadata": {
    "colab_type": "text",
    "id": "BIIYsB8pkaNw"
   },
   "source": [
    "### Set of Conv layer2"
   ]
  },
  {
   "cell_type": "code",
   "execution_count": 0,
   "metadata": {
    "colab": {},
    "colab_type": "code",
    "id": "kRrhpnOwkaNx"
   },
   "outputs": [],
   "source": [
    "f2 = tf.Variable(tf.truncated_normal([4,4,32,64], stddev=0.01))\n",
    "conv2 = tf.nn.conv2d(input = x2, filter = f2, strides = [1,1,1,1], padding = 'SAME')\n",
    "b2 = tf.Variable(tf.zeros([1,1,1,64]))\n",
    "\n",
    "a2 = tf.nn.relu(conv2+b2) #rellu\n",
    "\n",
    "#pooling \n",
    "x3 = tf.nn.max_pool(a2, ksize = [1,2,2,1], strides = [1,2,2,1], padding = 'SAME')"
   ]
  },
  {
   "cell_type": "code",
   "execution_count": 13,
   "metadata": {
    "colab": {
     "base_uri": "https://localhost:8080/",
     "height": 34
    },
    "colab_type": "code",
    "executionInfo": {
     "elapsed": 362,
     "status": "ok",
     "timestamp": 1542624444699,
     "user": {
      "displayName": "master r",
      "photoUrl": "",
      "userId": "09605291914165955012"
     },
     "user_tz": -540
    },
    "id": "QbQ-h2XHkaN0",
    "outputId": "184ba823-de66-4cf5-acab-860575386441"
   },
   "outputs": [
    {
     "data": {
      "text/plain": [
       "TensorShape([Dimension(None), Dimension(7), Dimension(7), Dimension(64)])"
      ]
     },
     "execution_count": 13,
     "metadata": {
      "tags": []
     },
     "output_type": "execute_result"
    }
   ],
   "source": [
    "x3.shape"
   ]
  },
  {
   "cell_type": "markdown",
   "metadata": {
    "colab_type": "text",
    "id": "SVPeMKevkaN4"
   },
   "source": [
    "### flatten"
   ]
  },
  {
   "cell_type": "code",
   "execution_count": 0,
   "metadata": {
    "colab": {},
    "colab_type": "code",
    "id": "MoQpOzIUkaN5"
   },
   "outputs": [],
   "source": [
    "myshape = x3.shape\n",
    "final_shape = int(myshape[1]*myshape[2]*myshape[3])\n",
    "\n",
    "flat1 = tf.reshape(x3, [-1, final_shape])"
   ]
  },
  {
   "cell_type": "code",
   "execution_count": 75,
   "metadata": {
    "colab": {
     "base_uri": "https://localhost:8080/",
     "height": 34
    },
    "colab_type": "code",
    "executionInfo": {
     "elapsed": 479,
     "status": "ok",
     "timestamp": 1542626310780,
     "user": {
      "displayName": "master r",
      "photoUrl": "",
      "userId": "09605291914165955012"
     },
     "user_tz": -540
    },
    "id": "ty6kQxWekaN9",
    "outputId": "344c728d-01bd-4f73-97da-3a9561a47aa7"
   },
   "outputs": [
    {
     "data": {
      "text/plain": [
       "TensorShape([Dimension(None), Dimension(3136)])"
      ]
     },
     "execution_count": 75,
     "metadata": {
      "tags": []
     },
     "output_type": "execute_result"
    }
   ],
   "source": [
    "flat1.shape"
   ]
  },
  {
   "cell_type": "markdown",
   "metadata": {
    "colab_type": "text",
    "id": "uxjdKQYQkaOC"
   },
   "source": [
    "### Affine Layer1"
   ]
  },
  {
   "cell_type": "code",
   "execution_count": 0,
   "metadata": {
    "colab": {},
    "colab_type": "code",
    "id": "je0pI_-DkaOD"
   },
   "outputs": [],
   "source": [
    "num_hidden = 128"
   ]
  },
  {
   "cell_type": "code",
   "execution_count": 0,
   "metadata": {
    "colab": {},
    "colab_type": "code",
    "id": "xHHAOV_0kaOH"
   },
   "outputs": [],
   "source": [
    "x_a1 = flat1\n",
    "w1 = tf.Variable(initial_value=tf.random_normal((final_shape, num_hidden), mean = 0, stddev = 1.0))\n",
    "b1 = tf.Variable(tf.zeros(num_hidden))\n",
    "z1 = tf.matmul(x_a1, w1) + b1\n",
    "x_a2 = tf.nn.sigmoid(z1)"
   ]
  },
  {
   "cell_type": "code",
   "execution_count": 78,
   "metadata": {
    "colab": {
     "base_uri": "https://localhost:8080/",
     "height": 34
    },
    "colab_type": "code",
    "executionInfo": {
     "elapsed": 344,
     "status": "ok",
     "timestamp": 1542626314962,
     "user": {
      "displayName": "master r",
      "photoUrl": "",
      "userId": "09605291914165955012"
     },
     "user_tz": -540
    },
    "id": "WKCAX9xnkaOK",
    "outputId": "e69c4f82-a973-4e30-9a09-e7faac340000"
   },
   "outputs": [
    {
     "data": {
      "text/plain": [
       "TensorShape([Dimension(None), Dimension(128)])"
      ]
     },
     "execution_count": 78,
     "metadata": {
      "tags": []
     },
     "output_type": "execute_result"
    }
   ],
   "source": [
    "x_a2.shape"
   ]
  },
  {
   "cell_type": "markdown",
   "metadata": {
    "colab_type": "text",
    "id": "ikong0nckaOO"
   },
   "source": [
    "### Affine Layer2"
   ]
  },
  {
   "cell_type": "code",
   "execution_count": 0,
   "metadata": {
    "colab": {},
    "colab_type": "code",
    "id": "w7bTiUYokaOP"
   },
   "outputs": [],
   "source": [
    "w2 = tf.Variable(initial_value=tf.random_normal((num_hidden, 10), mean = 0, stddev = 1.0))\n",
    "b2 = tf.Variable(tf.zeros([1, 10]))\n",
    "y = tf.nn.softmax(tf.matmul(x_a2,w2)+b2)\n",
    "t = tf.placeholder(tf.float32, shape=[None, 10]) #true value"
   ]
  },
  {
   "cell_type": "code",
   "execution_count": 0,
   "metadata": {
    "colab": {},
    "colab_type": "code",
    "id": "uyo6xCarkaOT"
   },
   "outputs": [],
   "source": [
    "cross_entropy = tf.reduce_mean(-tf.reduce_sum(t*tf.log(y), axis=1) )\n",
    "train_step = tf.train.AdamOptimizer().minimize(cross_entropy)"
   ]
  },
  {
   "cell_type": "code",
   "execution_count": 88,
   "metadata": {
    "colab": {
     "base_uri": "https://localhost:8080/",
     "height": 34
    },
    "colab_type": "code",
    "executionInfo": {
     "elapsed": 674,
     "status": "ok",
     "timestamp": 1542626544861,
     "user": {
      "displayName": "master r",
      "photoUrl": "",
      "userId": "09605291914165955012"
     },
     "user_tz": -540
    },
    "id": "T8-3pvtzkaOa",
    "outputId": "1d55ec9b-698e-4bb8-a3c8-6eb733543602"
   },
   "outputs": [
    {
     "data": {
      "text/plain": [
       "550"
      ]
     },
     "execution_count": 88,
     "metadata": {
      "tags": []
     },
     "output_type": "execute_result"
    }
   ],
   "source": [
    "batch_size = 100\n",
    "num_classes = 10\n",
    "n_batches = 55000 // batch_size\n",
    "n_batches"
   ]
  },
  {
   "cell_type": "code",
   "execution_count": 0,
   "metadata": {
    "colab": {},
    "colab_type": "code",
    "id": "vvjBdHRakaOg"
   },
   "outputs": [],
   "source": [
    "sess=tf.Session()\n",
    "init= tf.global_variables_initializer()\n",
    "sess.run(init)"
   ]
  },
  {
   "cell_type": "code",
   "execution_count": 0,
   "metadata": {
    "colab": {},
    "colab_type": "code",
    "id": "kUiTtZDpkaOj"
   },
   "outputs": [],
   "source": [
    "# minibatch\n",
    "for epoch in range(5) :\n",
    "    X_ , Y_  = shuffle(train_xdata, train_labels)\n",
    "    \n",
    "    for i in range(n_batches) :\n",
    "        start = i*batch_size\n",
    "        end = start + batch_size\n",
    "        \n",
    "        sess.run(train_step, feed_dict = {x1 : X_[start:end, : ], t: Y_[start:end, :]})"
   ]
  },
  {
   "cell_type": "code",
   "execution_count": 91,
   "metadata": {
    "colab": {
     "base_uri": "https://localhost:8080/",
     "height": 34
    },
    "colab_type": "code",
    "executionInfo": {
     "elapsed": 775,
     "status": "ok",
     "timestamp": 1542626577027,
     "user": {
      "displayName": "master r",
      "photoUrl": "",
      "userId": "09605291914165955012"
     },
     "user_tz": -540
    },
    "id": "Z13rfqbckvdr",
    "outputId": "9823ac79-a3a8-4f53-ca55-6636861bb992"
   },
   "outputs": [
    {
     "name": "stdout",
     "output_type": "stream",
     "text": [
      "0.9859\n"
     ]
    }
   ],
   "source": [
    "correct_prediction = tf.equal(tf.argmax(y,1), tf.argmax(t,1))\n",
    "accuracy = tf.reduce_mean(tf.cast(correct_prediction, tf.float32))\n",
    "print(sess.run(accuracy, feed_dict={t:test_labels, x1:test_xdata}))"
   ]
  },
  {
   "cell_type": "code",
   "execution_count": 103,
   "metadata": {
    "colab": {
     "base_uri": "https://localhost:8080/",
     "height": 105
    },
    "colab_type": "code",
    "executionInfo": {
     "elapsed": 814,
     "status": "ok",
     "timestamp": 1542626854614,
     "user": {
      "displayName": "master r",
      "photoUrl": "",
      "userId": "09605291914165955012"
     },
     "user_tz": -540
    },
    "id": "XY1gt8hopTBu",
    "outputId": "f03adfdc-8ec6-422a-b316-d0fda1b561af"
   },
   "outputs": [
    {
     "data": {
      "text/plain": [
       "array([[ 96],\n",
       "       [115],\n",
       "       [259],\n",
       "       [320],\n",
       "       [448]])"
      ]
     },
     "execution_count": 103,
     "metadata": {
      "tags": []
     },
     "output_type": "execute_result"
    }
   ],
   "source": [
    "fail_index = tf.where(tf.equal(correct_prediction, False))\n",
    "f_i=sess.run(fail_index[:5],feed_dict={x1: test_xdata, t: test_labels})\n",
    "f_i"
   ]
  },
  {
   "cell_type": "markdown",
   "metadata": {},
   "source": [
    "##### 예측에 실패한 경우  plot"
   ]
  },
  {
   "cell_type": "code",
   "execution_count": 104,
   "metadata": {
    "colab": {
     "base_uri": "https://localhost:8080/",
     "height": 449
    },
    "colab_type": "code",
    "executionInfo": {
     "elapsed": 972,
     "status": "ok",
     "timestamp": 1542626856486,
     "user": {
      "displayName": "master r",
      "photoUrl": "",
      "userId": "09605291914165955012"
     },
     "user_tz": -540
    },
    "id": "6n7KSKIZtqDz",
    "outputId": "3d69253c-3aec-41b4-b22a-b9000105d9fc"
   },
   "outputs": [
    {
     "data": {
      "image/png": "[encoded data removed]",
      "text/plain": [
       "<matplotlib.figure.Figure at 0x7fbbfa6e28d0>"
      ]
     },
     "metadata": {
      "tags": []
     },
     "output_type": "display_data"
    },
    {
     "data": {
      "image/png": "[encoded data removed]",
      "text/plain": [
       "<matplotlib.figure.Figure at 0x7fbbfa6900f0>"
      ]
     },
     "metadata": {
      "tags": []
     },
     "output_type": "display_data"
    },
    {
     "data": {
      "image/png": "[encoded data removed]",
      "text/plain": [
       "<matplotlib.figure.Figure at 0x7fbbfa656710>"
      ]
     },
     "metadata": {
      "tags": []
     },
     "output_type": "display_data"
    },
    {
     "data": {
      "image/png": "[encoded data removed]",
      "text/plain": [
       "<matplotlib.figure.Figure at 0x7fbbfa61f3c8>"
      ]
     },
     "metadata": {
      "tags": []
     },
     "output_type": "display_data"
    },
    {
     "data": {
      "image/png": "[encoded data removed]",
      "text/plain": [
       "<matplotlib.figure.Figure at 0x7fbbfa5d3588>"
      ]
     },
     "metadata": {
      "tags": []
     },
     "output_type": "display_data"
    }
   ],
   "source": [
    "for i in range(len(f_i)) :\n",
    "  plt.subplot(5,2,i+1)\n",
    "  plt.axis('off')\n",
    "  plt.imshow(test_xdata[f_i[i]].reshape([28,28]))\n",
    "  plt.subplots_adjust(wspace=0.5)\n",
    "  plt.show()"
   ]
  }
 ],
 "metadata": {
  "accelerator": "GPU",
  "colab": {
   "collapsed_sections": [],
   "name": "MNIST_tensorflow_CNN.ipynb",
   "provenance": [],
   "version": "0.3.2"
  },
  "kernelspec": {
   "display_name": "Python 3",
   "language": "python",
   "name": "python3"
  },
  "language_info": {
   "codemirror_mode": {
    "name": "ipython",
    "version": 3
   },
   "file_extension": ".py",
   "mimetype": "text/x-python",
   "name": "python",
   "nbconvert_exporter": "python",
   "pygments_lexer": "ipython3",
   "version": "3.6.5"
  }
 },
 "nbformat": 4,
 "nbformat_minor": 1
}
